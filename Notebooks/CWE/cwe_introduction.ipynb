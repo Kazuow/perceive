{
 "cells": [
  {
   "cell_type": "markdown",
   "metadata": {
    "deletable": true,
    "editable": true
   },
   "source": [
    "# Introduction"
   ]
  },
  {
   "cell_type": "markdown",
   "metadata": {
    "deletable": true,
    "editable": true
   },
   "source": [
    "The number and severity of cyber-attacks has been increasing at an alarming rate. Currently software security reacts to attacks, trying to minimize damage after it has already occurred. The inherit delay in a reactive approach will inevitably result in larger-than-necessary losses. To prevent or minimize such losses, a proactive approach to security is needed. This proactive approach is the basis of PERCEIVE. By being able to identify potential attacks before they can cause harm, we will be able to finally turn the tide and stop being on the defensive.\n",
    "\n",
    "Many weaknesses in software are known, and are publicly indexed, but this information is not reaching decision makers. MITRE’s databases—CVE for vulnerabilities, CWE for weaknesses, and CAPEC for attack patterns—hold these past concepts.\n",
    "\n",
    "While the data in these databases was rich, it was loosely structured and high in volume. My portion of this project was to understand the structure and contents of the CWE database so that we could create a more easily understood and analyzable corpus. This corpus, through machine learning, will be used to compare known concepts (CWEs) to emerging concepts in hacker discussion groups.  To aid in determining similarity between our indexed concepts and emerging concepts, we need to understand the specificity, subject, time and purpose of each concept that we index. By analyzing emerging concepts in this manner, we can direct the attention of software developers, managers, and decision-makers so that they can proactively fix the security weaknesses in an economic and time efficient way.\n",
    "\n",
    "In order to create this corpus, we must understand the ways in which the aformentioned indexes are organized. This purpose of this notebook is to record and document the way that the CWE database functions. The version of CWE used for the data analytics in this notebook in 2.9. "
   ]
  },
  {
   "cell_type": "markdown",
   "metadata": {
    "deletable": true,
    "editable": true
   },
   "source": [
    "# Structure"
   ]
  },
  {
   "cell_type": "markdown",
   "metadata": {
    "deletable": true,
    "editable": true
   },
   "source": [
    "   The data in CWE is organized in two seperate ways. The first part of this section will deal with the structure and formating of the XML section. XML is language designed to carry information and XML uses fields to hold the information. The objective of this notebook was to determine which fields would be useful for the corpus. The raw XML data can be downloaded at https://cwe.mitre.org/data/. The version used for this notebook is 2.9. "
   ]
  },
  {
   "cell_type": "code",
   "execution_count": 37,
   "metadata": {
    "collapsed": false,
    "deletable": true,
    "editable": true,
    "scrolled": false
   },
   "outputs": [
    {
     "name": "stdout",
     "output_type": "stream",
     "text": [
      "Views\n",
      "Categories\n",
      "Weaknesses\n",
      "Compound_Elements\n"
     ]
    }
   ],
   "source": [
    "import lxml.etree\n",
    "tree = lxml.etree.parse('cwec_v2.9.xml')\n",
    "root = tree.getroot()\n",
    "for table in root: \n",
    "    print (table.tag)"
   ]
  },
  {
   "cell_type": "markdown",
   "metadata": {
    "deletable": true,
    "editable": true
   },
   "source": [
    "There are four main tables in the XML. They are <b>Views</b>, <b>Categories</b>, <b>Weaknesses</b>, and <b>Coumpound_Elements</b>. In the XML the contents of these main categories is messy, however, on the website these main tables follow a strict hierarchy. "
   ]
  },
  {
   "cell_type": "markdown",
   "metadata": {
    "deletable": true,
    "editable": true
   },
   "source": [
    "Below is a graphical representation of the XML structure."
   ]
  },
  {
   "cell_type": "markdown",
   "metadata": {
    "collapsed": false,
    "deletable": true,
    "editable": true,
    "scrolled": true
   },
   "source": [
    "<img src=\"images/CWE_Map.png\">"
   ]
  },
  {
   "cell_type": "markdown",
   "metadata": {
    "deletable": true,
    "editable": true
   },
   "source": [
    "Visualizing the XML data is a headache, however the data for the website is significantly more structured. The four main tables from the XML return, however this time they are organized in a strict hierarchy. There are two <b>Views</b> and they are always at the top of the hierarchy. Every <b>Category</b>, <b>Weakness</b>, and <b>Compound_Element</b> is a \"MemberOf\" one or both of these two views. <b>Weaknesses</b> are further broken down into three levels. <b>Weakness Class</b> is the top level. <b>Weakness Classes</b> contain descriptions of weaknesses that are very abstract and is the most general of the three <b>Weaknesses</b>. <b>Weakness Bases</b> are the middle ground and contain details on detection and prevention. <b>Weakness Variants</b> are the most specific and are typically limited to a specific language or technology. <b>Categories</b> simply contain entries that share common characteristics. <b> Compound Elements</b> can either be composites or chains as of CWE 2.9. However it is stated that this can change as necessary. \n",
    "    "
   ]
  },
  {
   "cell_type": "markdown",
   "metadata": {
    "deletable": true,
    "editable": true
   },
   "source": [
    "The hierarcy functions as follows. The two <b>Views</b> are the apex of the hierarchy. Every <b>Weakness</b> or <b>Category</b> directly contained within one or both <b>Views</b> is refered as a \"MemberOf\". This is unique. All <b>Weaknesses</b> <b>Classes</b> and <b>Compound Elements</b> are contained within these views, however not all of them are directly contained within them. For those contained in other <b>Weaknesses</b> they are considered to be the \"ChildOf\" while their holder is considered the \"ParentOf\". Any member of the hierachy can be a \"ParentOf\" any member that is below it or of the same rank. Conversely any member of the hierarcy can be a \"ChildOf\" any member that is above it or the same rank. The exception to this rule is that a <b>Category</b> can be the \"ParentOf\" a <b>Weakness Class</b> yet is the \"ChildOf\" a <b>Weakness Base</b> at least once.   <a href=\"https://cwe.mitre.org/data/definitions/60.html\"> See CWE ID 60 </a>."
   ]
  },
  {
   "cell_type": "markdown",
   "metadata": {
    "collapsed": false,
    "deletable": true,
    "editable": true
   },
   "source": [
    "<img src=\"images/CWE_Fields.png\">"
   ]
  },
  {
   "cell_type": "markdown",
   "metadata": {
    "deletable": true,
    "editable": true
   },
   "source": [
    "# Counting Fields"
   ]
  },
  {
   "cell_type": "markdown",
   "metadata": {
    "deletable": true,
    "editable": true
   },
   "source": [
    "Each weakness contains fields. These fields in turn contain information regarding that weakness. The type of information contained within these fields depends on the type of field. Each type of field has a predetermined format and a specificed topic and type of content. We need to determine which fields will be most useful for the program and direct the programs attention to those fields. The fields that will be useful not only have to contain useful information, but also occur frequently enough to be used regularly. The goal of the scripts below is to determine which fields occur frequently enough to be used. "
   ]
  },
  {
   "cell_type": "markdown",
   "metadata": {
    "deletable": true,
    "editable": true
   },
   "source": [
    "The scripts below record all of the fields in the weaknesses. "
   ]
  },
  {
   "cell_type": "code",
   "execution_count": 38,
   "metadata": {
    "collapsed": false,
    "deletable": true,
    "editable": true
   },
   "outputs": [
    {
     "name": "stdout",
     "output_type": "stream",
     "text": [
      "Description\n",
      "Relationships\n",
      "Weakness_Ordinalities\n",
      "Applicable_Platforms\n",
      "Time_of_Introduction\n",
      "Common_Consequences\n",
      "Potential_Mitigations\n",
      "Causal_Nature\n",
      "Demonstrative_Examples\n",
      "Taxonomy_Mappings\n",
      "Content_History\n"
     ]
    }
   ],
   "source": [
    "weakness_table = root[2]\n",
    "for row in weakness_table[0]: \n",
    "    print (row.tag)"
   ]
  },
  {
   "cell_type": "code",
   "execution_count": 39,
   "metadata": {
    "collapsed": false,
    "deletable": true,
    "editable": true
   },
   "outputs": [
    {
     "name": "stdout",
     "output_type": "stream",
     "text": [
      "Description\n",
      "Relationships\n",
      "Relationship_Notes\n",
      "Weakness_Ordinalities\n",
      "Applicable_Platforms\n",
      "Alternate_Terms\n",
      "Terminology_Notes\n",
      "Time_of_Introduction\n",
      "Likelihood_of_Exploit\n",
      "Common_Consequences\n",
      "Detection_Methods\n",
      "Potential_Mitigations\n",
      "Causal_Nature\n",
      "Demonstrative_Examples\n",
      "Observed_Examples\n",
      "Functional_Areas\n",
      "Affected_Resources\n",
      "References\n",
      "Taxonomy_Mappings\n",
      "White_Box_Definitions\n",
      "Related_Attack_Patterns\n",
      "Content_History\n"
     ]
    }
   ],
   "source": [
    "for row in weakness_table[20]: \n",
    "    print (row.tag)"
   ]
  },
  {
   "cell_type": "markdown",
   "metadata": {
    "deletable": true,
    "editable": true
   },
   "source": [
    "Now that we have a list of all of the fields, we can count to see how many times they are used. "
   ]
  },
  {
   "cell_type": "code",
   "execution_count": 40,
   "metadata": {
    "collapsed": false,
    "deletable": true,
    "editable": true
   },
   "outputs": [
    {
     "name": "stdout",
     "output_type": "stream",
     "text": [
      "{'Modes_of_Introduction': 32, 'Taxonomy_Mappings': 597, 'White_Box_Definitions': 29, 'Relationships': 705, 'Content_History': 718, 'References': 281, 'Functional_Areas': 27, 'Detection_Methods': 76, 'Enabling_Factors_for_Exploitation': 22, 'Applicable_Platforms': 556, 'Affected_Resources': 50, 'Common_Consequences': 701, 'Other_Notes': 23, 'Relationship_Notes': 122, 'Potential_Mitigations': 523, 'Likelihood_of_Exploit': 184, 'Description': 718, 'Research_Gaps': 74, 'Background_Details': 41, 'Time_of_Introduction': 664, 'Relevant_Properties': 15, 'Weakness_Ordinalities': 130, 'Related_Attack_Patterns': 206, 'Observed_Examples': 357, 'Causal_Nature': 74, 'Demonstrative_Examples': 385, 'Maintenance_Notes': 86, 'Theoretical_Notes': 26, 'Terminology_Notes': 26, 'Alternate_Terms': 65}\n"
     ]
    }
   ],
   "source": [
    "histogram = {}\n",
    "for row in weakness_table: \n",
    "    for column in row: \n",
    "        if column.tag not in histogram: \n",
    "            histogram[column.tag] = 0\n",
    "        else:\n",
    "            histogram[column.tag] += 1\n",
    "print (histogram)"
   ]
  },
  {
   "cell_type": "markdown",
   "metadata": {
    "deletable": true,
    "editable": true
   },
   "source": [
    "Finally in order to make it easier to read, we create a histogram. "
   ]
  },
  {
   "cell_type": "code",
   "execution_count": 41,
   "metadata": {
    "collapsed": false,
    "deletable": true,
    "editable": true
   },
   "outputs": [
    {
     "data": {
      "text/html": [
       "\n",
       "    <div class=\"bk-root\">\n",
       "        <a href=\"http://bokeh.pydata.org\" target=\"_blank\" class=\"bk-logo bk-logo-small bk-logo-notebook\"></a>\n",
       "        <span id=\"f281d86a-f9da-4ba9-a2f6-8ea19c09d866\">Loading BokehJS ...</span>\n",
       "    </div>"
      ]
     },
     "metadata": {},
     "output_type": "display_data"
    },
    {
     "data": {
      "application/javascript": [
       "\n",
       "(function(global) {\n",
       "  function now() {\n",
       "    return new Date();\n",
       "  }\n",
       "\n",
       "  var force = true;\n",
       "\n",
       "  if (typeof (window._bokeh_onload_callbacks) === \"undefined\" || force === true) {\n",
       "    window._bokeh_onload_callbacks = [];\n",
       "    window._bokeh_is_loading = undefined;\n",
       "  }\n",
       "\n",
       "\n",
       "  \n",
       "  if (typeof (window._bokeh_timeout) === \"undefined\" || force === true) {\n",
       "    window._bokeh_timeout = Date.now() + 5000;\n",
       "    window._bokeh_failed_load = false;\n",
       "  }\n",
       "\n",
       "  var NB_LOAD_WARNING = {'data': {'text/html':\n",
       "     \"<div style='background-color: #fdd'>\\n\"+\n",
       "     \"<p>\\n\"+\n",
       "     \"BokehJS does not appear to have successfully loaded. If loading BokehJS from CDN, this \\n\"+\n",
       "     \"may be due to a slow or bad network connection. Possible fixes:\\n\"+\n",
       "     \"</p>\\n\"+\n",
       "     \"<ul>\\n\"+\n",
       "     \"<li>re-rerun `output_notebook()` to attempt to load from CDN again, or</li>\\n\"+\n",
       "     \"<li>use INLINE resources instead, as so:</li>\\n\"+\n",
       "     \"</ul>\\n\"+\n",
       "     \"<code>\\n\"+\n",
       "     \"from bokeh.resources import INLINE\\n\"+\n",
       "     \"output_notebook(resources=INLINE)\\n\"+\n",
       "     \"</code>\\n\"+\n",
       "     \"</div>\"}};\n",
       "\n",
       "  function display_loaded() {\n",
       "    if (window.Bokeh !== undefined) {\n",
       "      document.getElementById(\"f281d86a-f9da-4ba9-a2f6-8ea19c09d866\").textContent = \"BokehJS successfully loaded.\";\n",
       "    } else if (Date.now() < window._bokeh_timeout) {\n",
       "      setTimeout(display_loaded, 100)\n",
       "    }\n",
       "  }\n",
       "\n",
       "  function run_callbacks() {\n",
       "    window._bokeh_onload_callbacks.forEach(function(callback) { callback() });\n",
       "    delete window._bokeh_onload_callbacks\n",
       "    console.info(\"Bokeh: all callbacks have finished\");\n",
       "  }\n",
       "\n",
       "  function load_libs(js_urls, callback) {\n",
       "    window._bokeh_onload_callbacks.push(callback);\n",
       "    if (window._bokeh_is_loading > 0) {\n",
       "      console.log(\"Bokeh: BokehJS is being loaded, scheduling callback at\", now());\n",
       "      return null;\n",
       "    }\n",
       "    if (js_urls == null || js_urls.length === 0) {\n",
       "      run_callbacks();\n",
       "      return null;\n",
       "    }\n",
       "    console.log(\"Bokeh: BokehJS not loaded, scheduling load and callback at\", now());\n",
       "    window._bokeh_is_loading = js_urls.length;\n",
       "    for (var i = 0; i < js_urls.length; i++) {\n",
       "      var url = js_urls[i];\n",
       "      var s = document.createElement('script');\n",
       "      s.src = url;\n",
       "      s.async = false;\n",
       "      s.onreadystatechange = s.onload = function() {\n",
       "        window._bokeh_is_loading--;\n",
       "        if (window._bokeh_is_loading === 0) {\n",
       "          console.log(\"Bokeh: all BokehJS libraries loaded\");\n",
       "          run_callbacks()\n",
       "        }\n",
       "      };\n",
       "      s.onerror = function() {\n",
       "        console.warn(\"failed to load library \" + url);\n",
       "      };\n",
       "      console.log(\"Bokeh: injecting script tag for BokehJS library: \", url);\n",
       "      document.getElementsByTagName(\"head\")[0].appendChild(s);\n",
       "    }\n",
       "  };var element = document.getElementById(\"f281d86a-f9da-4ba9-a2f6-8ea19c09d866\");\n",
       "  if (element == null) {\n",
       "    console.log(\"Bokeh: ERROR: autoload.js configured with elementid 'f281d86a-f9da-4ba9-a2f6-8ea19c09d866' but no matching script tag was found. \")\n",
       "    return false;\n",
       "  }\n",
       "\n",
       "  var js_urls = [\"https://cdn.pydata.org/bokeh/release/bokeh-0.12.4.min.js\", \"https://cdn.pydata.org/bokeh/release/bokeh-widgets-0.12.4.min.js\"];\n",
       "\n",
       "  var inline_js = [\n",
       "    function(Bokeh) {\n",
       "      Bokeh.set_log_level(\"info\");\n",
       "    },\n",
       "    \n",
       "    function(Bokeh) {\n",
       "      \n",
       "      document.getElementById(\"f281d86a-f9da-4ba9-a2f6-8ea19c09d866\").textContent = \"BokehJS is loading...\";\n",
       "    },\n",
       "    function(Bokeh) {\n",
       "      console.log(\"Bokeh: injecting CSS: https://cdn.pydata.org/bokeh/release/bokeh-0.12.4.min.css\");\n",
       "      Bokeh.embed.inject_css(\"https://cdn.pydata.org/bokeh/release/bokeh-0.12.4.min.css\");\n",
       "      console.log(\"Bokeh: injecting CSS: https://cdn.pydata.org/bokeh/release/bokeh-widgets-0.12.4.min.css\");\n",
       "      Bokeh.embed.inject_css(\"https://cdn.pydata.org/bokeh/release/bokeh-widgets-0.12.4.min.css\");\n",
       "    }\n",
       "  ];\n",
       "\n",
       "  function run_inline_js() {\n",
       "    \n",
       "    if ((window.Bokeh !== undefined) || (force === true)) {\n",
       "      for (var i = 0; i < inline_js.length; i++) {\n",
       "        inline_js[i](window.Bokeh);\n",
       "      }if (force === true) {\n",
       "        display_loaded();\n",
       "      }} else if (Date.now() < window._bokeh_timeout) {\n",
       "      setTimeout(run_inline_js, 100);\n",
       "    } else if (!window._bokeh_failed_load) {\n",
       "      console.log(\"Bokeh: BokehJS failed to load within specified timeout.\");\n",
       "      window._bokeh_failed_load = true;\n",
       "    } else if (force !== true) {\n",
       "      var cell = $(document.getElementById(\"f281d86a-f9da-4ba9-a2f6-8ea19c09d866\")).parents('.cell').data().cell;\n",
       "      cell.output_area.append_execute_result(NB_LOAD_WARNING)\n",
       "    }\n",
       "\n",
       "  }\n",
       "\n",
       "  if (window._bokeh_is_loading === 0) {\n",
       "    console.log(\"Bokeh: BokehJS loaded, going straight to plotting\");\n",
       "    run_inline_js();\n",
       "  } else {\n",
       "    load_libs(js_urls, function() {\n",
       "      console.log(\"Bokeh: BokehJS plotting callback run at\", now());\n",
       "      run_inline_js();\n",
       "    });\n",
       "  }\n",
       "}(this));"
      ]
     },
     "metadata": {},
     "output_type": "display_data"
    }
   ],
   "source": [
    "import numpy as np\n",
    "import pandas as pd\n",
    "from bokeh.plotting import figure, show\n",
    "from bokeh.models import Range1d\n",
    "from bokeh.io import output_notebook\n",
    "output_notebook() #So plots\n",
    "\n",
    "data = {}\n",
    "data['Entries'] = histogram\n",
    "\n",
    "df_data = pd.DataFrame(data).sort_values(by='Entries', ascending=True)\n",
    "series = df_data.loc[:,'Entries']\n",
    "\n",
    "p = figure(width=800, y_range=series.index.tolist(), title=\"Weaknesses Histogram\")\n",
    "\n",
    "p.xaxis.axis_label = 'Frequency'\n",
    "p.xaxis.axis_label_text_font_size = '10pt'\n",
    "p.xaxis.major_label_text_font_size = '8pt'\n",
    "\n",
    "p.yaxis.axis_label = 'Field'\n",
    "p.yaxis.axis_label_text_font_size = '10pt'\n",
    "p.yaxis.major_label_text_font_size = '8pt'\n",
    "\n",
    "j = 1\n",
    "for k,v in series.iteritems():\n",
    "  \n",
    "  #Print fields, values, orders\n",
    "  #print (k,v,j) \n",
    "  p.rect(x=v/2, y=j, width=abs(v), height=0.4,\n",
    "    width_units=\"data\", height_units=\"data\")\n",
    "  j += 1"
   ]
  },
  {
   "cell_type": "code",
   "execution_count": 42,
   "metadata": {
    "collapsed": false,
    "deletable": true,
    "editable": true
   },
   "outputs": [
    {
     "data": {
      "text/html": [
       "\n",
       "\n",
       "    <div class=\"bk-root\">\n",
       "        <div class=\"bk-plotdiv\" id=\"4e44b4b9-7ed3-4821-8f89-372c652dd3ec\"></div>\n",
       "    </div>\n",
       "<script type=\"text/javascript\">\n",
       "  \n",
       "  (function(global) {\n",
       "    function now() {\n",
       "      return new Date();\n",
       "    }\n",
       "  \n",
       "    var force = false;\n",
       "  \n",
       "    if (typeof (window._bokeh_onload_callbacks) === \"undefined\" || force === true) {\n",
       "      window._bokeh_onload_callbacks = [];\n",
       "      window._bokeh_is_loading = undefined;\n",
       "    }\n",
       "  \n",
       "  \n",
       "    \n",
       "    if (typeof (window._bokeh_timeout) === \"undefined\" || force === true) {\n",
       "      window._bokeh_timeout = Date.now() + 0;\n",
       "      window._bokeh_failed_load = false;\n",
       "    }\n",
       "  \n",
       "    var NB_LOAD_WARNING = {'data': {'text/html':\n",
       "       \"<div style='background-color: #fdd'>\\n\"+\n",
       "       \"<p>\\n\"+\n",
       "       \"BokehJS does not appear to have successfully loaded. If loading BokehJS from CDN, this \\n\"+\n",
       "       \"may be due to a slow or bad network connection. Possible fixes:\\n\"+\n",
       "       \"</p>\\n\"+\n",
       "       \"<ul>\\n\"+\n",
       "       \"<li>re-rerun `output_notebook()` to attempt to load from CDN again, or</li>\\n\"+\n",
       "       \"<li>use INLINE resources instead, as so:</li>\\n\"+\n",
       "       \"</ul>\\n\"+\n",
       "       \"<code>\\n\"+\n",
       "       \"from bokeh.resources import INLINE\\n\"+\n",
       "       \"output_notebook(resources=INLINE)\\n\"+\n",
       "       \"</code>\\n\"+\n",
       "       \"</div>\"}};\n",
       "  \n",
       "    function display_loaded() {\n",
       "      if (window.Bokeh !== undefined) {\n",
       "        document.getElementById(\"4e44b4b9-7ed3-4821-8f89-372c652dd3ec\").textContent = \"BokehJS successfully loaded.\";\n",
       "      } else if (Date.now() < window._bokeh_timeout) {\n",
       "        setTimeout(display_loaded, 100)\n",
       "      }\n",
       "    }\n",
       "  \n",
       "    function run_callbacks() {\n",
       "      window._bokeh_onload_callbacks.forEach(function(callback) { callback() });\n",
       "      delete window._bokeh_onload_callbacks\n",
       "      console.info(\"Bokeh: all callbacks have finished\");\n",
       "    }\n",
       "  \n",
       "    function load_libs(js_urls, callback) {\n",
       "      window._bokeh_onload_callbacks.push(callback);\n",
       "      if (window._bokeh_is_loading > 0) {\n",
       "        console.log(\"Bokeh: BokehJS is being loaded, scheduling callback at\", now());\n",
       "        return null;\n",
       "      }\n",
       "      if (js_urls == null || js_urls.length === 0) {\n",
       "        run_callbacks();\n",
       "        return null;\n",
       "      }\n",
       "      console.log(\"Bokeh: BokehJS not loaded, scheduling load and callback at\", now());\n",
       "      window._bokeh_is_loading = js_urls.length;\n",
       "      for (var i = 0; i < js_urls.length; i++) {\n",
       "        var url = js_urls[i];\n",
       "        var s = document.createElement('script');\n",
       "        s.src = url;\n",
       "        s.async = false;\n",
       "        s.onreadystatechange = s.onload = function() {\n",
       "          window._bokeh_is_loading--;\n",
       "          if (window._bokeh_is_loading === 0) {\n",
       "            console.log(\"Bokeh: all BokehJS libraries loaded\");\n",
       "            run_callbacks()\n",
       "          }\n",
       "        };\n",
       "        s.onerror = function() {\n",
       "          console.warn(\"failed to load library \" + url);\n",
       "        };\n",
       "        console.log(\"Bokeh: injecting script tag for BokehJS library: \", url);\n",
       "        document.getElementsByTagName(\"head\")[0].appendChild(s);\n",
       "      }\n",
       "    };var element = document.getElementById(\"4e44b4b9-7ed3-4821-8f89-372c652dd3ec\");\n",
       "    if (element == null) {\n",
       "      console.log(\"Bokeh: ERROR: autoload.js configured with elementid '4e44b4b9-7ed3-4821-8f89-372c652dd3ec' but no matching script tag was found. \")\n",
       "      return false;\n",
       "    }\n",
       "  \n",
       "    var js_urls = [];\n",
       "  \n",
       "    var inline_js = [\n",
       "      function(Bokeh) {\n",
       "        (function() {\n",
       "          var fn = function() {\n",
       "            var docs_json = {\"60eb81fb-50e5-472c-ac9a-674caa837a52\":{\"roots\":{\"references\":[{\"attributes\":{\"fill_alpha\":{\"value\":0.1},\"fill_color\":{\"value\":\"#1f77b4\"},\"height\":{\"units\":\"data\",\"value\":0.4},\"line_alpha\":{\"value\":0.1},\"line_color\":{\"value\":\"#1f77b4\"},\"width\":{\"units\":\"data\",\"value\":50},\"x\":{\"value\":25.0},\"y\":{\"value\":10}},\"id\":\"c1841025-3c95-467a-9a04-1cc6d68a3821\",\"type\":\"Rect\"},{\"attributes\":{\"fill_alpha\":{\"value\":0.1},\"fill_color\":{\"value\":\"#1f77b4\"},\"height\":{\"units\":\"data\",\"value\":0.4},\"line_alpha\":{\"value\":0.1},\"line_color\":{\"value\":\"#1f77b4\"},\"width\":{\"units\":\"data\",\"value\":27},\"x\":{\"value\":13.5},\"y\":{\"value\":6}},\"id\":\"717c2fba-b83c-440d-b1ed-32c04f29c69e\",\"type\":\"Rect\"},{\"attributes\":{\"fill_alpha\":{\"value\":0.1},\"fill_color\":{\"value\":\"#1f77b4\"},\"height\":{\"units\":\"data\",\"value\":0.4},\"line_alpha\":{\"value\":0.1},\"line_color\":{\"value\":\"#1f77b4\"},\"width\":{\"units\":\"data\",\"value\":26},\"x\":{\"value\":13.0},\"y\":{\"value\":5}},\"id\":\"6bc604ad-2cd1-40c6-95dd-9141f27b3f38\",\"type\":\"Rect\"},{\"attributes\":{\"callback\":null},\"id\":\"e903abfa-cc26-46fe-8c3b-6f20f74e50c3\",\"type\":\"ColumnDataSource\"},{\"attributes\":{\"fill_color\":{\"value\":\"#1f77b4\"},\"height\":{\"units\":\"data\",\"value\":0.4},\"line_color\":{\"value\":\"#1f77b4\"},\"width\":{\"units\":\"data\",\"value\":281},\"x\":{\"value\":140.5},\"y\":{\"value\":20}},\"id\":\"745c4811-19ef-477b-9242-f1c8232fd97e\",\"type\":\"Rect\"},{\"attributes\":{\"fill_alpha\":{\"value\":0.1},\"fill_color\":{\"value\":\"#1f77b4\"},\"height\":{\"units\":\"data\",\"value\":0.4},\"line_alpha\":{\"value\":0.1},\"line_color\":{\"value\":\"#1f77b4\"},\"width\":{\"units\":\"data\",\"value\":65},\"x\":{\"value\":32.5},\"y\":{\"value\":11}},\"id\":\"02c84b53-c191-49e1-bd8f-c7bcf493cf93\",\"type\":\"Rect\"},{\"attributes\":{\"callback\":null},\"id\":\"d1170312-d074-4cef-8c84-2a66db6f27f2\",\"type\":\"ColumnDataSource\"},{\"attributes\":{\"fill_color\":{\"value\":\"#1f77b4\"},\"height\":{\"units\":\"data\",\"value\":0.4},\"line_color\":{\"value\":\"#1f77b4\"},\"width\":{\"units\":\"data\",\"value\":22},\"x\":{\"value\":11.0},\"y\":{\"value\":2}},\"id\":\"e7d3f5aa-a31b-4592-913b-28401b273238\",\"type\":\"Rect\"},{\"attributes\":{\"callback\":null},\"id\":\"79b976a4-f5e8-45cf-98ee-976ee5775db7\",\"type\":\"ColumnDataSource\"},{\"attributes\":{\"fill_alpha\":{\"value\":0.1},\"fill_color\":{\"value\":\"#1f77b4\"},\"height\":{\"units\":\"data\",\"value\":0.4},\"line_alpha\":{\"value\":0.1},\"line_color\":{\"value\":\"#1f77b4\"},\"width\":{\"units\":\"data\",\"value\":74},\"x\":{\"value\":37.0},\"y\":{\"value\":12}},\"id\":\"1105e9fa-0b08-4c09-9bb8-7a3702ad1803\",\"type\":\"Rect\"},{\"attributes\":{\"callback\":null},\"id\":\"9e1c0717-3da8-4d01-bbd5-b91f512abc60\",\"type\":\"ColumnDataSource\"},{\"attributes\":{\"fill_color\":{\"value\":\"#1f77b4\"},\"height\":{\"units\":\"data\",\"value\":0.4},\"line_color\":{\"value\":\"#1f77b4\"},\"width\":{\"units\":\"data\",\"value\":74},\"x\":{\"value\":37.0},\"y\":{\"value\":13}},\"id\":\"31af5344-dd11-4f86-a567-e0442fa2d08f\",\"type\":\"Rect\"},{\"attributes\":{\"callback\":null},\"id\":\"7f9f05e7-eb8a-4716-bd52-d097be20c7cf\",\"type\":\"ColumnDataSource\"},{\"attributes\":{\"fill_alpha\":{\"value\":0.1},\"fill_color\":{\"value\":\"#1f77b4\"},\"height\":{\"units\":\"data\",\"value\":0.4},\"line_alpha\":{\"value\":0.1},\"line_color\":{\"value\":\"#1f77b4\"},\"width\":{\"units\":\"data\",\"value\":184},\"x\":{\"value\":92.0},\"y\":{\"value\":18}},\"id\":\"0203db66-bf03-4b9f-9874-f31ab5b76ffd\",\"type\":\"Rect\"},{\"attributes\":{\"bottom_units\":\"screen\",\"fill_alpha\":{\"value\":0.5},\"fill_color\":{\"value\":\"lightgrey\"},\"left_units\":\"screen\",\"level\":\"overlay\",\"line_alpha\":{\"value\":1.0},\"line_color\":{\"value\":\"black\"},\"line_dash\":[4,4],\"line_width\":{\"value\":2},\"plot\":null,\"render_mode\":\"css\",\"right_units\":\"screen\",\"top_units\":\"screen\"},\"id\":\"05e28680-fe46-4c52-b1b9-bb59060346ab\",\"type\":\"BoxAnnotation\"},{\"attributes\":{\"callback\":null},\"id\":\"c9f680bb-defa-486d-8266-eebb44ad35a5\",\"type\":\"ColumnDataSource\"},{\"attributes\":{\"data_source\":{\"id\":\"980c5915-9474-4cc4-8d87-7044c29bdd87\",\"type\":\"ColumnDataSource\"},\"glyph\":{\"id\":\"de99f7a1-d91c-418f-a2c8-1f387b739ed2\",\"type\":\"Rect\"},\"hover_glyph\":null,\"nonselection_glyph\":{\"id\":\"c4bfa3f6-3144-49d9-95fa-ea3aa6502458\",\"type\":\"Rect\"},\"selection_glyph\":null},\"id\":\"76d359aa-2c1c-4d57-9cb4-b4550d74bbe3\",\"type\":\"GlyphRenderer\"},{\"attributes\":{\"data_source\":{\"id\":\"864b0641-1b81-494b-8ed2-2f52c7dd8227\",\"type\":\"ColumnDataSource\"},\"glyph\":{\"id\":\"e7d3f5aa-a31b-4592-913b-28401b273238\",\"type\":\"Rect\"},\"hover_glyph\":null,\"nonselection_glyph\":{\"id\":\"1a1dd45b-6c52-413e-be1d-552fb94bba30\",\"type\":\"Rect\"},\"selection_glyph\":null},\"id\":\"cad9b969-f743-4aa2-bc3d-4008776c7432\",\"type\":\"GlyphRenderer\"},{\"attributes\":{\"fill_color\":{\"value\":\"#1f77b4\"},\"height\":{\"units\":\"data\",\"value\":0.4},\"line_color\":{\"value\":\"#1f77b4\"},\"width\":{\"units\":\"data\",\"value\":130},\"x\":{\"value\":65.0},\"y\":{\"value\":17}},\"id\":\"87dd02b5-6063-442d-bf45-025f712b5354\",\"type\":\"Rect\"},{\"attributes\":{\"callback\":null},\"id\":\"a3af9d35-4795-43a5-a48f-02ba0aff866e\",\"type\":\"ColumnDataSource\"},{\"attributes\":{\"callback\":null},\"id\":\"589659e5-1a7b-4070-9af7-db8ceeb3deab\",\"type\":\"ColumnDataSource\"},{\"attributes\":{\"fill_color\":{\"value\":\"#1f77b4\"},\"height\":{\"units\":\"data\",\"value\":0.4},\"line_color\":{\"value\":\"#1f77b4\"},\"width\":{\"units\":\"data\",\"value\":705},\"x\":{\"value\":352.5},\"y\":{\"value\":28}},\"id\":\"a24fdea9-3612-42b8-9a9d-158104b0f004\",\"type\":\"Rect\"},{\"attributes\":{\"fill_alpha\":{\"value\":0.1},\"fill_color\":{\"value\":\"#1f77b4\"},\"height\":{\"units\":\"data\",\"value\":0.4},\"line_alpha\":{\"value\":0.1},\"line_color\":{\"value\":\"#1f77b4\"},\"width\":{\"units\":\"data\",\"value\":718},\"x\":{\"value\":359.0},\"y\":{\"value\":29}},\"id\":\"b7e27d4e-cdf2-41c1-a231-1518004bf9f2\",\"type\":\"Rect\"},{\"attributes\":{\"fill_alpha\":{\"value\":0.1},\"fill_color\":{\"value\":\"#1f77b4\"},\"height\":{\"units\":\"data\",\"value\":0.4},\"line_alpha\":{\"value\":0.1},\"line_color\":{\"value\":\"#1f77b4\"},\"width\":{\"units\":\"data\",\"value\":523},\"x\":{\"value\":261.5},\"y\":{\"value\":23}},\"id\":\"15395169-e14a-4111-a827-b63a20c433fa\",\"type\":\"Rect\"},{\"attributes\":{\"fill_alpha\":{\"value\":0.1},\"fill_color\":{\"value\":\"#1f77b4\"},\"height\":{\"units\":\"data\",\"value\":0.4},\"line_alpha\":{\"value\":0.1},\"line_color\":{\"value\":\"#1f77b4\"},\"width\":{\"units\":\"data\",\"value\":26},\"x\":{\"value\":13.0},\"y\":{\"value\":4}},\"id\":\"eafec5be-ea16-4d75-a653-b5b70ca82f65\",\"type\":\"Rect\"},{\"attributes\":{\"callback\":null},\"id\":\"8a434c32-34c4-4ea4-bff0-fd1ef2584873\",\"type\":\"ColumnDataSource\"},{\"attributes\":{\"data_source\":{\"id\":\"46fcb2ed-8e73-43be-8f06-2112c15ac7c4\",\"type\":\"ColumnDataSource\"},\"glyph\":{\"id\":\"19fbeaa0-0124-402f-8d3c-dc7d1448fe3c\",\"type\":\"Rect\"},\"hover_glyph\":null,\"nonselection_glyph\":{\"id\":\"8b6af103-2dad-4a6e-9428-13362a76bb0a\",\"type\":\"Rect\"},\"selection_glyph\":null},\"id\":\"761ae7ba-7677-4aa0-b743-e4ac628a7423\",\"type\":\"GlyphRenderer\"},{\"attributes\":{\"fill_color\":{\"value\":\"#1f77b4\"},\"height\":{\"units\":\"data\",\"value\":0.4},\"line_color\":{\"value\":\"#1f77b4\"},\"width\":{\"units\":\"data\",\"value\":664},\"x\":{\"value\":332.0},\"y\":{\"value\":26}},\"id\":\"de99f7a1-d91c-418f-a2c8-1f387b739ed2\",\"type\":\"Rect\"},{\"attributes\":{\"callback\":null},\"id\":\"df4eb58c-df6e-4cec-88be-f765117514e5\",\"type\":\"ColumnDataSource\"},{\"attributes\":{\"callback\":null},\"id\":\"b1601458-1267-4506-8078-1e5d5c5c2b30\",\"type\":\"DataRange1d\"},{\"attributes\":{\"data_source\":{\"id\":\"7f9f05e7-eb8a-4716-bd52-d097be20c7cf\",\"type\":\"ColumnDataSource\"},\"glyph\":{\"id\":\"211c9ac1-cb78-49cc-a610-a8b06f7f6c39\",\"type\":\"Rect\"},\"hover_glyph\":null,\"nonselection_glyph\":{\"id\":\"0930380f-80ce-46a4-8954-6320c3d6ab8a\",\"type\":\"Rect\"},\"selection_glyph\":null},\"id\":\"368b4bdf-7455-4605-a55a-19300489ee2c\",\"type\":\"GlyphRenderer\"},{\"attributes\":{\"plot\":{\"id\":\"ba0ac393-769f-450f-ab6e-c3c0ff344495\",\"subtype\":\"Figure\",\"type\":\"Plot\"},\"ticker\":{\"id\":\"660f58bd-d0ab-4577-b266-7b02fa9d6bd0\",\"type\":\"BasicTicker\"}},\"id\":\"97793ff1-418c-4577-8291-6f8c8973cb4f\",\"type\":\"Grid\"},{\"attributes\":{\"fill_alpha\":{\"value\":0.1},\"fill_color\":{\"value\":\"#1f77b4\"},\"height\":{\"units\":\"data\",\"value\":0.4},\"line_alpha\":{\"value\":0.1},\"line_color\":{\"value\":\"#1f77b4\"},\"width\":{\"units\":\"data\",\"value\":556},\"x\":{\"value\":278.0},\"y\":{\"value\":24}},\"id\":\"a25170ec-dae3-431b-b01d-6e8555201572\",\"type\":\"Rect\"},{\"attributes\":{\"fill_color\":{\"value\":\"#1f77b4\"},\"height\":{\"units\":\"data\",\"value\":0.4},\"line_color\":{\"value\":\"#1f77b4\"},\"width\":{\"units\":\"data\",\"value\":718},\"x\":{\"value\":359.0},\"y\":{\"value\":30}},\"id\":\"211c9ac1-cb78-49cc-a610-a8b06f7f6c39\",\"type\":\"Rect\"},{\"attributes\":{\"fill_alpha\":{\"value\":0.1},\"fill_color\":{\"value\":\"#1f77b4\"},\"height\":{\"units\":\"data\",\"value\":0.4},\"line_alpha\":{\"value\":0.1},\"line_color\":{\"value\":\"#1f77b4\"},\"width\":{\"units\":\"data\",\"value\":15},\"x\":{\"value\":7.5},\"y\":{\"value\":1}},\"id\":\"52499258-c1dc-4c1c-bc96-a54ea1ff5a0b\",\"type\":\"Rect\"},{\"attributes\":{},\"id\":\"bda08cdf-498a-48f6-84c9-38ab7b08062c\",\"type\":\"BasicTickFormatter\"},{\"attributes\":{\"fill_color\":{\"value\":\"#1f77b4\"},\"height\":{\"units\":\"data\",\"value\":0.4},\"line_color\":{\"value\":\"#1f77b4\"},\"width\":{\"units\":\"data\",\"value\":556},\"x\":{\"value\":278.0},\"y\":{\"value\":24}},\"id\":\"d778017c-09fc-4c35-a3e3-87e33f011543\",\"type\":\"Rect\"},{\"attributes\":{\"callback\":null},\"id\":\"ae130116-7c9e-49fe-93e8-8a3276908687\",\"type\":\"ColumnDataSource\"},{\"attributes\":{\"fill_alpha\":{\"value\":0.1},\"fill_color\":{\"value\":\"#1f77b4\"},\"height\":{\"units\":\"data\",\"value\":0.4},\"line_alpha\":{\"value\":0.1},\"line_color\":{\"value\":\"#1f77b4\"},\"width\":{\"units\":\"data\",\"value\":597},\"x\":{\"value\":298.5},\"y\":{\"value\":25}},\"id\":\"bb06107d-8a9d-4e7d-b97e-9435532396e0\",\"type\":\"Rect\"},{\"attributes\":{\"data_source\":{\"id\":\"358b3dda-b3a8-4271-9cbe-ee324bf70615\",\"type\":\"ColumnDataSource\"},\"glyph\":{\"id\":\"a25f4416-8079-482a-bbdc-8ab3ef4b777e\",\"type\":\"Rect\"},\"hover_glyph\":null,\"nonselection_glyph\":{\"id\":\"bb06107d-8a9d-4e7d-b97e-9435532396e0\",\"type\":\"Rect\"},\"selection_glyph\":null},\"id\":\"46ee9eb9-73e0-41cf-80bd-e789566b1021\",\"type\":\"GlyphRenderer\"},{\"attributes\":{\"data_source\":{\"id\":\"ae130116-7c9e-49fe-93e8-8a3276908687\",\"type\":\"ColumnDataSource\"},\"glyph\":{\"id\":\"9143d2ae-4d08-4070-ba6c-da28eb61e4a1\",\"type\":\"Rect\"},\"hover_glyph\":null,\"nonselection_glyph\":{\"id\":\"c5f94aa5-e136-4061-83f7-9e7cc7817202\",\"type\":\"Rect\"},\"selection_glyph\":null},\"id\":\"adce77ea-08b0-4f29-9ff4-47a1124c9da5\",\"type\":\"GlyphRenderer\"},{\"attributes\":{\"overlay\":{\"id\":\"05e28680-fe46-4c52-b1b9-bb59060346ab\",\"type\":\"BoxAnnotation\"},\"plot\":{\"id\":\"ba0ac393-769f-450f-ab6e-c3c0ff344495\",\"subtype\":\"Figure\",\"type\":\"Plot\"}},\"id\":\"e803dbcd-b8a9-4503-8479-e60ed46d266a\",\"type\":\"BoxZoomTool\"},{\"attributes\":{\"plot\":null,\"text\":\"Weaknesses Histogram\"},\"id\":\"68cfa461-8424-476f-9fba-d4dceed60291\",\"type\":\"Title\"},{\"attributes\":{\"data_source\":{\"id\":\"a3af9d35-4795-43a5-a48f-02ba0aff866e\",\"type\":\"ColumnDataSource\"},\"glyph\":{\"id\":\"0da3a9da-84f0-49c3-b370-55acf3104f32\",\"type\":\"Rect\"},\"hover_glyph\":null,\"nonselection_glyph\":{\"id\":\"9528fb84-6569-4598-8b8d-6cae4eca89da\",\"type\":\"Rect\"},\"selection_glyph\":null},\"id\":\"84b0a93a-e4ef-4fca-a6ce-4e9ca3ebf4f8\",\"type\":\"GlyphRenderer\"},{\"attributes\":{\"data_source\":{\"id\":\"72f12754-67cb-444a-b2ff-90eb9f1bf206\",\"type\":\"ColumnDataSource\"},\"glyph\":{\"id\":\"2d0b2296-e98e-4769-92bb-03d6f506be1b\",\"type\":\"Rect\"},\"hover_glyph\":null,\"nonselection_glyph\":{\"id\":\"eafec5be-ea16-4d75-a653-b5b70ca82f65\",\"type\":\"Rect\"},\"selection_glyph\":null},\"id\":\"46398682-4ff5-44fd-b4eb-2ba371cf2817\",\"type\":\"GlyphRenderer\"},{\"attributes\":{\"below\":[{\"id\":\"2140dd96-f52c-4306-ac72-970c119a9bce\",\"type\":\"LinearAxis\"}],\"left\":[{\"id\":\"91c2a23b-6c75-403f-858c-4df895ae0fdb\",\"type\":\"CategoricalAxis\"}],\"plot_width\":800,\"renderers\":[{\"id\":\"2140dd96-f52c-4306-ac72-970c119a9bce\",\"type\":\"LinearAxis\"},{\"id\":\"97793ff1-418c-4577-8291-6f8c8973cb4f\",\"type\":\"Grid\"},{\"id\":\"91c2a23b-6c75-403f-858c-4df895ae0fdb\",\"type\":\"CategoricalAxis\"},{\"id\":\"0170bb94-c4f9-491b-9802-4d1330fe8c53\",\"type\":\"Grid\"},{\"id\":\"05e28680-fe46-4c52-b1b9-bb59060346ab\",\"type\":\"BoxAnnotation\"},{\"id\":\"0877d0d1-d47d-4837-8890-a124c844cd36\",\"type\":\"GlyphRenderer\"},{\"id\":\"cad9b969-f743-4aa2-bc3d-4008776c7432\",\"type\":\"GlyphRenderer\"},{\"id\":\"968a2c3c-f338-4027-a316-9ffb0a667bc9\",\"type\":\"GlyphRenderer\"},{\"id\":\"46398682-4ff5-44fd-b4eb-2ba371cf2817\",\"type\":\"GlyphRenderer\"},{\"id\":\"a5228a65-d448-4f22-be45-a3b15eac585d\",\"type\":\"GlyphRenderer\"},{\"id\":\"1e591d27-8d2e-4bd7-9854-61d1912f0e2d\",\"type\":\"GlyphRenderer\"},{\"id\":\"d324df03-15fd-4ded-90a9-11033b5cfe7c\",\"type\":\"GlyphRenderer\"},{\"id\":\"adce77ea-08b0-4f29-9ff4-47a1124c9da5\",\"type\":\"GlyphRenderer\"},{\"id\":\"575bf136-335d-41f8-858c-2d52a5e3f57e\",\"type\":\"GlyphRenderer\"},{\"id\":\"7769859b-eede-4126-af46-bd257b993bb2\",\"type\":\"GlyphRenderer\"},{\"id\":\"8af200a9-2b1b-4f4b-8c6f-b13ab237c031\",\"type\":\"GlyphRenderer\"},{\"id\":\"5e1e15a0-5e52-423a-8390-54552af2d96a\",\"type\":\"GlyphRenderer\"},{\"id\":\"91c8d401-7e00-4ade-ad8b-99c0141e136e\",\"type\":\"GlyphRenderer\"},{\"id\":\"d7907078-e78f-4e61-9155-15d3a505d559\",\"type\":\"GlyphRenderer\"},{\"id\":\"a07d0994-6fbb-4022-9f77-765e9ef97220\",\"type\":\"GlyphRenderer\"},{\"id\":\"84b0a93a-e4ef-4fca-a6ce-4e9ca3ebf4f8\",\"type\":\"GlyphRenderer\"},{\"id\":\"ad8956e0-2b27-4841-8fa7-e5611de41366\",\"type\":\"GlyphRenderer\"},{\"id\":\"91be1309-b266-406f-947a-9e57253c255b\",\"type\":\"GlyphRenderer\"},{\"id\":\"4e91f086-be21-47ff-bca2-d06bdc68fc21\",\"type\":\"GlyphRenderer\"},{\"id\":\"3646049a-a669-4b05-8fcf-e0240165ff95\",\"type\":\"GlyphRenderer\"},{\"id\":\"be637867-a802-42ef-825b-99a4d0e587ed\",\"type\":\"GlyphRenderer\"},{\"id\":\"761ae7ba-7677-4aa0-b743-e4ac628a7423\",\"type\":\"GlyphRenderer\"},{\"id\":\"47171550-b792-4f7a-bdc7-b22d47bec08c\",\"type\":\"GlyphRenderer\"},{\"id\":\"bef29e2b-3b3b-4386-a0b1-301bd7b86b16\",\"type\":\"GlyphRenderer\"},{\"id\":\"46ee9eb9-73e0-41cf-80bd-e789566b1021\",\"type\":\"GlyphRenderer\"},{\"id\":\"76d359aa-2c1c-4d57-9cb4-b4550d74bbe3\",\"type\":\"GlyphRenderer\"},{\"id\":\"ea87f7e1-9a23-4f3c-9f67-c32b3c049048\",\"type\":\"GlyphRenderer\"},{\"id\":\"3d2a93a0-9c91-4889-90f2-f8f47c9b3b5a\",\"type\":\"GlyphRenderer\"},{\"id\":\"f30e9649-e1ef-4522-a62d-38f43e917236\",\"type\":\"GlyphRenderer\"},{\"id\":\"368b4bdf-7455-4605-a55a-19300489ee2c\",\"type\":\"GlyphRenderer\"}],\"title\":{\"id\":\"68cfa461-8424-476f-9fba-d4dceed60291\",\"type\":\"Title\"},\"tool_events\":{\"id\":\"da37c107-cdde-4b59-b1b6-68be31746d1c\",\"type\":\"ToolEvents\"},\"toolbar\":{\"id\":\"16ee76f3-b83d-46be-a6f2-1a504f369b2a\",\"type\":\"Toolbar\"},\"x_range\":{\"id\":\"b1601458-1267-4506-8078-1e5d5c5c2b30\",\"type\":\"DataRange1d\"},\"y_range\":{\"id\":\"264e25aa-b31a-4e77-b716-5616c5582a37\",\"type\":\"FactorRange\"}},\"id\":\"ba0ac393-769f-450f-ab6e-c3c0ff344495\",\"subtype\":\"Figure\",\"type\":\"Plot\"},{\"attributes\":{\"callback\":null},\"id\":\"980c5915-9474-4cc4-8d87-7044c29bdd87\",\"type\":\"ColumnDataSource\"},{\"attributes\":{\"callback\":null},\"id\":\"eedaeca7-425f-4756-98a3-3b289be7c6c6\",\"type\":\"ColumnDataSource\"},{\"attributes\":{\"data_source\":{\"id\":\"e6e09b41-f775-467e-a9e5-d93826d34805\",\"type\":\"ColumnDataSource\"},\"glyph\":{\"id\":\"002fa5b6-a0f2-4cd0-80a7-3033fb51a53a\",\"type\":\"Rect\"},\"hover_glyph\":null,\"nonselection_glyph\":{\"id\":\"c1841025-3c95-467a-9a04-1cc6d68a3821\",\"type\":\"Rect\"},\"selection_glyph\":null},\"id\":\"7769859b-eede-4126-af46-bd257b993bb2\",\"type\":\"GlyphRenderer\"},{\"attributes\":{\"fill_color\":{\"value\":\"#1f77b4\"},\"height\":{\"units\":\"data\",\"value\":0.4},\"line_color\":{\"value\":\"#1f77b4\"},\"width\":{\"units\":\"data\",\"value\":701},\"x\":{\"value\":350.5},\"y\":{\"value\":27}},\"id\":\"e89d37c1-887c-4622-a8b1-2cb154c56d28\",\"type\":\"Rect\"},{\"attributes\":{\"callback\":null},\"id\":\"a920c50f-6c60-443a-8150-03ef0e2ff452\",\"type\":\"ColumnDataSource\"},{\"attributes\":{\"fill_color\":{\"value\":\"#1f77b4\"},\"height\":{\"units\":\"data\",\"value\":0.4},\"line_color\":{\"value\":\"#1f77b4\"},\"width\":{\"units\":\"data\",\"value\":357},\"x\":{\"value\":178.5},\"y\":{\"value\":21}},\"id\":\"d5977235-bc51-4b65-b63e-b6116d260c0f\",\"type\":\"Rect\"},{\"attributes\":{\"fill_color\":{\"value\":\"#1f77b4\"},\"height\":{\"units\":\"data\",\"value\":0.4},\"line_color\":{\"value\":\"#1f77b4\"},\"width\":{\"units\":\"data\",\"value\":65},\"x\":{\"value\":32.5},\"y\":{\"value\":11}},\"id\":\"864a02e6-cafa-4043-9adf-32049390afc8\",\"type\":\"Rect\"},{\"attributes\":{\"data_source\":{\"id\":\"e903abfa-cc26-46fe-8c3b-6f20f74e50c3\",\"type\":\"ColumnDataSource\"},\"glyph\":{\"id\":\"745c4811-19ef-477b-9242-f1c8232fd97e\",\"type\":\"Rect\"},\"hover_glyph\":null,\"nonselection_glyph\":{\"id\":\"b2b7eab4-07f3-4ea4-b321-eda3c106d300\",\"type\":\"Rect\"},\"selection_glyph\":null},\"id\":\"3646049a-a669-4b05-8fcf-e0240165ff95\",\"type\":\"GlyphRenderer\"},{\"attributes\":{\"plot\":{\"id\":\"ba0ac393-769f-450f-ab6e-c3c0ff344495\",\"subtype\":\"Figure\",\"type\":\"Plot\"}},\"id\":\"16b8590f-96a1-44f2-9f4f-dd7f8184426a\",\"type\":\"PanTool\"},{\"attributes\":{\"fill_alpha\":{\"value\":0.1},\"fill_color\":{\"value\":\"#1f77b4\"},\"height\":{\"units\":\"data\",\"value\":0.4},\"line_alpha\":{\"value\":0.1},\"line_color\":{\"value\":\"#1f77b4\"},\"width\":{\"units\":\"data\",\"value\":701},\"x\":{\"value\":350.5},\"y\":{\"value\":27}},\"id\":\"4d4cdbae-2915-4107-be09-80d7915cd84d\",\"type\":\"Rect\"},{\"attributes\":{\"fill_alpha\":{\"value\":0.1},\"fill_color\":{\"value\":\"#1f77b4\"},\"height\":{\"units\":\"data\",\"value\":0.4},\"line_alpha\":{\"value\":0.1},\"line_color\":{\"value\":\"#1f77b4\"},\"width\":{\"units\":\"data\",\"value\":122},\"x\":{\"value\":61.0},\"y\":{\"value\":16}},\"id\":\"9528fb84-6569-4598-8b8d-6cae4eca89da\",\"type\":\"Rect\"},{\"attributes\":{\"fill_color\":{\"value\":\"#1f77b4\"},\"height\":{\"units\":\"data\",\"value\":0.4},\"line_color\":{\"value\":\"#1f77b4\"},\"width\":{\"units\":\"data\",\"value\":15},\"x\":{\"value\":7.5},\"y\":{\"value\":1}},\"id\":\"7fb07a33-b7ff-430c-950d-318bdaf3bdbe\",\"type\":\"Rect\"},{\"attributes\":{\"data_source\":{\"id\":\"df4eb58c-df6e-4cec-88be-f765117514e5\",\"type\":\"ColumnDataSource\"},\"glyph\":{\"id\":\"b8417034-e54a-4575-aec5-7d12f0e3a264\",\"type\":\"Rect\"},\"hover_glyph\":null,\"nonselection_glyph\":{\"id\":\"717c2fba-b83c-440d-b1ed-32c04f29c69e\",\"type\":\"Rect\"},\"selection_glyph\":null},\"id\":\"1e591d27-8d2e-4bd7-9854-61d1912f0e2d\",\"type\":\"GlyphRenderer\"},{\"attributes\":{\"data_source\":{\"id\":\"d15eb42a-4846-4fc1-97fa-3898c3f9304b\",\"type\":\"ColumnDataSource\"},\"glyph\":{\"id\":\"59328bdc-d687-43cb-abd7-d4bdbee17e9d\",\"type\":\"Rect\"},\"hover_glyph\":null,\"nonselection_glyph\":{\"id\":\"0203db66-bf03-4b9f-9874-f31ab5b76ffd\",\"type\":\"Rect\"},\"selection_glyph\":null},\"id\":\"91be1309-b266-406f-947a-9e57253c255b\",\"type\":\"GlyphRenderer\"},{\"attributes\":{\"callback\":null},\"id\":\"72f12754-67cb-444a-b2ff-90eb9f1bf206\",\"type\":\"ColumnDataSource\"},{\"attributes\":{\"data_source\":{\"id\":\"3b108023-ab91-4bba-8ec9-c16b6f432ccd\",\"type\":\"ColumnDataSource\"},\"glyph\":{\"id\":\"0c475eaa-9361-4056-861f-cc6e9f2de443\",\"type\":\"Rect\"},\"hover_glyph\":null,\"nonselection_glyph\":{\"id\":\"b7e27d4e-cdf2-41c1-a231-1518004bf9f2\",\"type\":\"Rect\"},\"selection_glyph\":null},\"id\":\"f30e9649-e1ef-4522-a62d-38f43e917236\",\"type\":\"GlyphRenderer\"},{\"attributes\":{\"active_drag\":\"auto\",\"active_scroll\":\"auto\",\"active_tap\":\"auto\",\"tools\":[{\"id\":\"16b8590f-96a1-44f2-9f4f-dd7f8184426a\",\"type\":\"PanTool\"},{\"id\":\"da10e403-a35c-4619-ba40-6a2bb2d3c638\",\"type\":\"WheelZoomTool\"},{\"id\":\"e803dbcd-b8a9-4503-8479-e60ed46d266a\",\"type\":\"BoxZoomTool\"},{\"id\":\"f6487b8a-265f-4b80-b157-b8392c3639ba\",\"type\":\"SaveTool\"},{\"id\":\"fcd907bb-075f-4994-ba33-f7ee7deba9ff\",\"type\":\"ResetTool\"},{\"id\":\"dddef745-10f0-49ac-94c5-3f97c0a2e597\",\"type\":\"HelpTool\"}]},\"id\":\"16ee76f3-b83d-46be-a6f2-1a504f369b2a\",\"type\":\"Toolbar\"},{\"attributes\":{\"fill_color\":{\"value\":\"#1f77b4\"},\"height\":{\"units\":\"data\",\"value\":0.4},\"line_color\":{\"value\":\"#1f77b4\"},\"width\":{\"units\":\"data\",\"value\":23},\"x\":{\"value\":11.5},\"y\":{\"value\":3}},\"id\":\"5bbe8eb2-7216-4611-9005-814188d0c2c9\",\"type\":\"Rect\"},{\"attributes\":{\"data_source\":{\"id\":\"0078ddeb-a23a-4f83-b7b7-6886f8e5735d\",\"type\":\"ColumnDataSource\"},\"glyph\":{\"id\":\"e42dfddc-82d5-4372-9797-49c465b6bb66\",\"type\":\"Rect\"},\"hover_glyph\":null,\"nonselection_glyph\":{\"id\":\"25970f5f-d1d4-4436-b7ae-0269cd03e4b8\",\"type\":\"Rect\"},\"selection_glyph\":null},\"id\":\"d324df03-15fd-4ded-90a9-11033b5cfe7c\",\"type\":\"GlyphRenderer\"},{\"attributes\":{\"fill_color\":{\"value\":\"#1f77b4\"},\"height\":{\"units\":\"data\",\"value\":0.4},\"line_color\":{\"value\":\"#1f77b4\"},\"width\":{\"units\":\"data\",\"value\":76},\"x\":{\"value\":38.0},\"y\":{\"value\":14}},\"id\":\"d8dc2f15-9580-499a-a7f2-43dc2edde8fc\",\"type\":\"Rect\"},{\"attributes\":{\"fill_alpha\":{\"value\":0.1},\"fill_color\":{\"value\":\"#1f77b4\"},\"height\":{\"units\":\"data\",\"value\":0.4},\"line_alpha\":{\"value\":0.1},\"line_color\":{\"value\":\"#1f77b4\"},\"width\":{\"units\":\"data\",\"value\":86},\"x\":{\"value\":43.0},\"y\":{\"value\":15}},\"id\":\"e6a84342-2511-411e-9f9e-9c1c10f8eabc\",\"type\":\"Rect\"},{\"attributes\":{\"callback\":null},\"id\":\"1e7f19a1-a16e-4283-9c2e-6bf62182d503\",\"type\":\"ColumnDataSource\"},{\"attributes\":{\"data_source\":{\"id\":\"d2b34cb1-7995-4da1-b31d-460c40e1466a\",\"type\":\"ColumnDataSource\"},\"glyph\":{\"id\":\"d778017c-09fc-4c35-a3e3-87e33f011543\",\"type\":\"Rect\"},\"hover_glyph\":null,\"nonselection_glyph\":{\"id\":\"a25170ec-dae3-431b-b01d-6e8555201572\",\"type\":\"Rect\"},\"selection_glyph\":null},\"id\":\"bef29e2b-3b3b-4386-a0b1-301bd7b86b16\",\"type\":\"GlyphRenderer\"},{\"attributes\":{\"fill_color\":{\"value\":\"#1f77b4\"},\"height\":{\"units\":\"data\",\"value\":0.4},\"line_color\":{\"value\":\"#1f77b4\"},\"width\":{\"units\":\"data\",\"value\":29},\"x\":{\"value\":14.5},\"y\":{\"value\":7}},\"id\":\"e42dfddc-82d5-4372-9797-49c465b6bb66\",\"type\":\"Rect\"},{\"attributes\":{\"data_source\":{\"id\":\"dcb630c6-0d9b-45e1-bb13-1b891ffe0213\",\"type\":\"ColumnDataSource\"},\"glyph\":{\"id\":\"d5977235-bc51-4b65-b63e-b6116d260c0f\",\"type\":\"Rect\"},\"hover_glyph\":null,\"nonselection_glyph\":{\"id\":\"cbff2dd3-3393-4387-8a92-fdcfea25b681\",\"type\":\"Rect\"},\"selection_glyph\":null},\"id\":\"be637867-a802-42ef-825b-99a4d0e587ed\",\"type\":\"GlyphRenderer\"},{\"attributes\":{\"fill_alpha\":{\"value\":0.1},\"fill_color\":{\"value\":\"#1f77b4\"},\"height\":{\"units\":\"data\",\"value\":0.4},\"line_alpha\":{\"value\":0.1},\"line_color\":{\"value\":\"#1f77b4\"},\"width\":{\"units\":\"data\",\"value\":76},\"x\":{\"value\":38.0},\"y\":{\"value\":14}},\"id\":\"0475b00d-fad2-46de-a8ab-f3682fb15b04\",\"type\":\"Rect\"},{\"attributes\":{\"plot\":{\"id\":\"ba0ac393-769f-450f-ab6e-c3c0ff344495\",\"subtype\":\"Figure\",\"type\":\"Plot\"}},\"id\":\"fcd907bb-075f-4994-ba33-f7ee7deba9ff\",\"type\":\"ResetTool\"},{\"attributes\":{\"callback\":null},\"id\":\"c46b77d4-c725-469a-b93b-c13e8ec51986\",\"type\":\"ColumnDataSource\"},{\"attributes\":{\"data_source\":{\"id\":\"1e7f19a1-a16e-4283-9c2e-6bf62182d503\",\"type\":\"ColumnDataSource\"},\"glyph\":{\"id\":\"c4f7119d-212c-4e11-b149-e9a461225f17\",\"type\":\"Rect\"},\"hover_glyph\":null,\"nonselection_glyph\":{\"id\":\"927a7053-74a2-4943-bca9-15b223dfbb33\",\"type\":\"Rect\"},\"selection_glyph\":null},\"id\":\"4e91f086-be21-47ff-bca2-d06bdc68fc21\",\"type\":\"GlyphRenderer\"},{\"attributes\":{\"fill_alpha\":{\"value\":0.1},\"fill_color\":{\"value\":\"#1f77b4\"},\"height\":{\"units\":\"data\",\"value\":0.4},\"line_alpha\":{\"value\":0.1},\"line_color\":{\"value\":\"#1f77b4\"},\"width\":{\"units\":\"data\",\"value\":718},\"x\":{\"value\":359.0},\"y\":{\"value\":30}},\"id\":\"0930380f-80ce-46a4-8954-6320c3d6ab8a\",\"type\":\"Rect\"},{\"attributes\":{},\"id\":\"da37c107-cdde-4b59-b1b6-68be31746d1c\",\"type\":\"ToolEvents\"},{\"attributes\":{\"fill_color\":{\"value\":\"#1f77b4\"},\"height\":{\"units\":\"data\",\"value\":0.4},\"line_color\":{\"value\":\"#1f77b4\"},\"width\":{\"units\":\"data\",\"value\":597},\"x\":{\"value\":298.5},\"y\":{\"value\":25}},\"id\":\"a25f4416-8079-482a-bbdc-8ab3ef4b777e\",\"type\":\"Rect\"},{\"attributes\":{\"callback\":null},\"id\":\"864b0641-1b81-494b-8ed2-2f52c7dd8227\",\"type\":\"ColumnDataSource\"},{\"attributes\":{\"callback\":null,\"factors\":[\"Relevant_Properties\",\"Enabling_Factors_for_Exploitation\",\"Other_Notes\",\"Theoretical_Notes\",\"Terminology_Notes\",\"Functional_Areas\",\"White_Box_Definitions\",\"Modes_of_Introduction\",\"Background_Details\",\"Affected_Resources\",\"Alternate_Terms\",\"Research_Gaps\",\"Causal_Nature\",\"Detection_Methods\",\"Maintenance_Notes\",\"Relationship_Notes\",\"Weakness_Ordinalities\",\"Likelihood_of_Exploit\",\"Related_Attack_Patterns\",\"References\",\"Observed_Examples\",\"Demonstrative_Examples\",\"Potential_Mitigations\",\"Applicable_Platforms\",\"Taxonomy_Mappings\",\"Time_of_Introduction\",\"Common_Consequences\",\"Relationships\",\"Content_History\",\"Description\"]},\"id\":\"264e25aa-b31a-4e77-b716-5616c5582a37\",\"type\":\"FactorRange\"},{\"attributes\":{},\"id\":\"660f58bd-d0ab-4577-b266-7b02fa9d6bd0\",\"type\":\"BasicTicker\"},{\"attributes\":{\"fill_color\":{\"value\":\"#1f77b4\"},\"height\":{\"units\":\"data\",\"value\":0.4},\"line_color\":{\"value\":\"#1f77b4\"},\"width\":{\"units\":\"data\",\"value\":122},\"x\":{\"value\":61.0},\"y\":{\"value\":16}},\"id\":\"0da3a9da-84f0-49c3-b370-55acf3104f32\",\"type\":\"Rect\"},{\"attributes\":{\"fill_alpha\":{\"value\":0.1},\"fill_color\":{\"value\":\"#1f77b4\"},\"height\":{\"units\":\"data\",\"value\":0.4},\"line_alpha\":{\"value\":0.1},\"line_color\":{\"value\":\"#1f77b4\"},\"width\":{\"units\":\"data\",\"value\":22},\"x\":{\"value\":11.0},\"y\":{\"value\":2}},\"id\":\"1a1dd45b-6c52-413e-be1d-552fb94bba30\",\"type\":\"Rect\"},{\"attributes\":{\"fill_alpha\":{\"value\":0.1},\"fill_color\":{\"value\":\"#1f77b4\"},\"height\":{\"units\":\"data\",\"value\":0.4},\"line_alpha\":{\"value\":0.1},\"line_color\":{\"value\":\"#1f77b4\"},\"width\":{\"units\":\"data\",\"value\":41},\"x\":{\"value\":20.5},\"y\":{\"value\":9}},\"id\":\"a1dedd33-547f-4b41-80ff-f55d4f394640\",\"type\":\"Rect\"},{\"attributes\":{\"plot\":{\"id\":\"ba0ac393-769f-450f-ab6e-c3c0ff344495\",\"subtype\":\"Figure\",\"type\":\"Plot\"}},\"id\":\"da10e403-a35c-4619-ba40-6a2bb2d3c638\",\"type\":\"WheelZoomTool\"},{\"attributes\":{},\"id\":\"77fa5d88-9938-4673-aa1d-0a905a8cd209\",\"type\":\"CategoricalTickFormatter\"},{\"attributes\":{\"fill_color\":{\"value\":\"#1f77b4\"},\"height\":{\"units\":\"data\",\"value\":0.4},\"line_color\":{\"value\":\"#1f77b4\"},\"width\":{\"units\":\"data\",\"value\":385},\"x\":{\"value\":192.5},\"y\":{\"value\":22}},\"id\":\"19fbeaa0-0124-402f-8d3c-dc7d1448fe3c\",\"type\":\"Rect\"},{\"attributes\":{\"fill_alpha\":{\"value\":0.1},\"fill_color\":{\"value\":\"#1f77b4\"},\"height\":{\"units\":\"data\",\"value\":0.4},\"line_alpha\":{\"value\":0.1},\"line_color\":{\"value\":\"#1f77b4\"},\"width\":{\"units\":\"data\",\"value\":357},\"x\":{\"value\":178.5},\"y\":{\"value\":21}},\"id\":\"cbff2dd3-3393-4387-8a92-fdcfea25b681\",\"type\":\"Rect\"},{\"attributes\":{\"fill_color\":{\"value\":\"#1f77b4\"},\"height\":{\"units\":\"data\",\"value\":0.4},\"line_color\":{\"value\":\"#1f77b4\"},\"width\":{\"units\":\"data\",\"value\":718},\"x\":{\"value\":359.0},\"y\":{\"value\":29}},\"id\":\"0c475eaa-9361-4056-861f-cc6e9f2de443\",\"type\":\"Rect\"},{\"attributes\":{\"data_source\":{\"id\":\"d1170312-d074-4cef-8c84-2a66db6f27f2\",\"type\":\"ColumnDataSource\"},\"glyph\":{\"id\":\"b5c408ff-c9dd-490b-bf1d-bad41e123dea\",\"type\":\"Rect\"},\"hover_glyph\":null,\"nonselection_glyph\":{\"id\":\"a1dedd33-547f-4b41-80ff-f55d4f394640\",\"type\":\"Rect\"},\"selection_glyph\":null},\"id\":\"575bf136-335d-41f8-858c-2d52a5e3f57e\",\"type\":\"GlyphRenderer\"},{\"attributes\":{\"callback\":null},\"id\":\"46fcb2ed-8e73-43be-8f06-2112c15ac7c4\",\"type\":\"ColumnDataSource\"},{\"attributes\":{\"data_source\":{\"id\":\"9e1c0717-3da8-4d01-bbd5-b91f512abc60\",\"type\":\"ColumnDataSource\"},\"glyph\":{\"id\":\"fde4a7f9-fec3-463d-a76b-94b60d4ae0d7\",\"type\":\"Rect\"},\"hover_glyph\":null,\"nonselection_glyph\":{\"id\":\"6bc604ad-2cd1-40c6-95dd-9141f27b3f38\",\"type\":\"Rect\"},\"selection_glyph\":null},\"id\":\"a5228a65-d448-4f22-be45-a3b15eac585d\",\"type\":\"GlyphRenderer\"},{\"attributes\":{\"callback\":null},\"id\":\"79f0e1b5-5498-40c8-bc09-e2f86a4669fb\",\"type\":\"ColumnDataSource\"},{\"attributes\":{\"callback\":null},\"id\":\"358b3dda-b3a8-4271-9cbe-ee324bf70615\",\"type\":\"ColumnDataSource\"},{\"attributes\":{\"fill_color\":{\"value\":\"#1f77b4\"},\"height\":{\"units\":\"data\",\"value\":0.4},\"line_color\":{\"value\":\"#1f77b4\"},\"width\":{\"units\":\"data\",\"value\":50},\"x\":{\"value\":25.0},\"y\":{\"value\":10}},\"id\":\"002fa5b6-a0f2-4cd0-80a7-3033fb51a53a\",\"type\":\"Rect\"},{\"attributes\":{\"data_source\":{\"id\":\"79b976a4-f5e8-45cf-98ee-976ee5775db7\",\"type\":\"ColumnDataSource\"},\"glyph\":{\"id\":\"864a02e6-cafa-4043-9adf-32049390afc8\",\"type\":\"Rect\"},\"hover_glyph\":null,\"nonselection_glyph\":{\"id\":\"02c84b53-c191-49e1-bd8f-c7bcf493cf93\",\"type\":\"Rect\"},\"selection_glyph\":null},\"id\":\"8af200a9-2b1b-4f4b-8c6f-b13ab237c031\",\"type\":\"GlyphRenderer\"},{\"attributes\":{\"fill_alpha\":{\"value\":0.1},\"fill_color\":{\"value\":\"#1f77b4\"},\"height\":{\"units\":\"data\",\"value\":0.4},\"line_alpha\":{\"value\":0.1},\"line_color\":{\"value\":\"#1f77b4\"},\"width\":{\"units\":\"data\",\"value\":385},\"x\":{\"value\":192.5},\"y\":{\"value\":22}},\"id\":\"8b6af103-2dad-4a6e-9428-13362a76bb0a\",\"type\":\"Rect\"},{\"attributes\":{\"axis_label\":\"Field\",\"formatter\":{\"id\":\"77fa5d88-9938-4673-aa1d-0a905a8cd209\",\"type\":\"CategoricalTickFormatter\"},\"plot\":{\"id\":\"ba0ac393-769f-450f-ab6e-c3c0ff344495\",\"subtype\":\"Figure\",\"type\":\"Plot\"},\"ticker\":{\"id\":\"0ce20e92-bdb9-4346-9f2d-c50c388ab5ee\",\"type\":\"CategoricalTicker\"}},\"id\":\"91c2a23b-6c75-403f-858c-4df895ae0fdb\",\"type\":\"CategoricalAxis\"},{\"attributes\":{\"data_source\":{\"id\":\"eedaeca7-425f-4756-98a3-3b289be7c6c6\",\"type\":\"ColumnDataSource\"},\"glyph\":{\"id\":\"5bbe8eb2-7216-4611-9005-814188d0c2c9\",\"type\":\"Rect\"},\"hover_glyph\":null,\"nonselection_glyph\":{\"id\":\"1b131e2f-5b07-45e6-9193-b11393ec3bee\",\"type\":\"Rect\"},\"selection_glyph\":null},\"id\":\"968a2c3c-f338-4027-a316-9ffb0a667bc9\",\"type\":\"GlyphRenderer\"},{\"attributes\":{\"callback\":null},\"id\":\"4d56ee72-776b-441d-90cd-cf33db5326ec\",\"type\":\"ColumnDataSource\"},{\"attributes\":{\"fill_alpha\":{\"value\":0.1},\"fill_color\":{\"value\":\"#1f77b4\"},\"height\":{\"units\":\"data\",\"value\":0.4},\"line_alpha\":{\"value\":0.1},\"line_color\":{\"value\":\"#1f77b4\"},\"width\":{\"units\":\"data\",\"value\":705},\"x\":{\"value\":352.5},\"y\":{\"value\":28}},\"id\":\"74d5afc3-0c1f-40fd-9a90-d1b19a029d1a\",\"type\":\"Rect\"},{\"attributes\":{\"plot\":{\"id\":\"ba0ac393-769f-450f-ab6e-c3c0ff344495\",\"subtype\":\"Figure\",\"type\":\"Plot\"}},\"id\":\"dddef745-10f0-49ac-94c5-3f97c0a2e597\",\"type\":\"HelpTool\"},{\"attributes\":{},\"id\":\"0ce20e92-bdb9-4346-9f2d-c50c388ab5ee\",\"type\":\"CategoricalTicker\"},{\"attributes\":{\"dimension\":1,\"plot\":{\"id\":\"ba0ac393-769f-450f-ab6e-c3c0ff344495\",\"subtype\":\"Figure\",\"type\":\"Plot\"},\"ticker\":{\"id\":\"0ce20e92-bdb9-4346-9f2d-c50c388ab5ee\",\"type\":\"CategoricalTicker\"}},\"id\":\"0170bb94-c4f9-491b-9802-4d1330fe8c53\",\"type\":\"Grid\"},{\"attributes\":{\"data_source\":{\"id\":\"a920c50f-6c60-443a-8150-03ef0e2ff452\",\"type\":\"ColumnDataSource\"},\"glyph\":{\"id\":\"d8dc2f15-9580-499a-a7f2-43dc2edde8fc\",\"type\":\"Rect\"},\"hover_glyph\":null,\"nonselection_glyph\":{\"id\":\"0475b00d-fad2-46de-a8ab-f3682fb15b04\",\"type\":\"Rect\"},\"selection_glyph\":null},\"id\":\"d7907078-e78f-4e61-9155-15d3a505d559\",\"type\":\"GlyphRenderer\"},{\"attributes\":{\"fill_color\":{\"value\":\"#1f77b4\"},\"height\":{\"units\":\"data\",\"value\":0.4},\"line_color\":{\"value\":\"#1f77b4\"},\"width\":{\"units\":\"data\",\"value\":184},\"x\":{\"value\":92.0},\"y\":{\"value\":18}},\"id\":\"59328bdc-d687-43cb-abd7-d4bdbee17e9d\",\"type\":\"Rect\"},{\"attributes\":{\"data_source\":{\"id\":\"8a434c32-34c4-4ea4-bff0-fd1ef2584873\",\"type\":\"ColumnDataSource\"},\"glyph\":{\"id\":\"e89d37c1-887c-4622-a8b1-2cb154c56d28\",\"type\":\"Rect\"},\"hover_glyph\":null,\"nonselection_glyph\":{\"id\":\"4d4cdbae-2915-4107-be09-80d7915cd84d\",\"type\":\"Rect\"},\"selection_glyph\":null},\"id\":\"ea87f7e1-9a23-4f3c-9f67-c32b3c049048\",\"type\":\"GlyphRenderer\"},{\"attributes\":{\"callback\":null},\"id\":\"d2b34cb1-7995-4da1-b31d-460c40e1466a\",\"type\":\"ColumnDataSource\"},{\"attributes\":{\"fill_color\":{\"value\":\"#1f77b4\"},\"height\":{\"units\":\"data\",\"value\":0.4},\"line_color\":{\"value\":\"#1f77b4\"},\"width\":{\"units\":\"data\",\"value\":26},\"x\":{\"value\":13.0},\"y\":{\"value\":5}},\"id\":\"fde4a7f9-fec3-463d-a76b-94b60d4ae0d7\",\"type\":\"Rect\"},{\"attributes\":{\"data_source\":{\"id\":\"79f0e1b5-5498-40c8-bc09-e2f86a4669fb\",\"type\":\"ColumnDataSource\"},\"glyph\":{\"id\":\"77fb6477-e74c-4692-98b2-0d56d974413d\",\"type\":\"Rect\"},\"hover_glyph\":null,\"nonselection_glyph\":{\"id\":\"15395169-e14a-4111-a827-b63a20c433fa\",\"type\":\"Rect\"},\"selection_glyph\":null},\"id\":\"47171550-b792-4f7a-bdc7-b22d47bec08c\",\"type\":\"GlyphRenderer\"},{\"attributes\":{\"axis_label\":\"Frequency\",\"formatter\":{\"id\":\"bda08cdf-498a-48f6-84c9-38ab7b08062c\",\"type\":\"BasicTickFormatter\"},\"plot\":{\"id\":\"ba0ac393-769f-450f-ab6e-c3c0ff344495\",\"subtype\":\"Figure\",\"type\":\"Plot\"},\"ticker\":{\"id\":\"660f58bd-d0ab-4577-b266-7b02fa9d6bd0\",\"type\":\"BasicTicker\"}},\"id\":\"2140dd96-f52c-4306-ac72-970c119a9bce\",\"type\":\"LinearAxis\"},{\"attributes\":{\"fill_color\":{\"value\":\"#1f77b4\"},\"height\":{\"units\":\"data\",\"value\":0.4},\"line_color\":{\"value\":\"#1f77b4\"},\"width\":{\"units\":\"data\",\"value\":41},\"x\":{\"value\":20.5},\"y\":{\"value\":9}},\"id\":\"b5c408ff-c9dd-490b-bf1d-bad41e123dea\",\"type\":\"Rect\"},{\"attributes\":{\"data_source\":{\"id\":\"aead1e6c-eeb2-4a2d-a078-57bed1070d61\",\"type\":\"ColumnDataSource\"},\"glyph\":{\"id\":\"7fb07a33-b7ff-430c-950d-318bdaf3bdbe\",\"type\":\"Rect\"},\"hover_glyph\":null,\"nonselection_glyph\":{\"id\":\"52499258-c1dc-4c1c-bc96-a54ea1ff5a0b\",\"type\":\"Rect\"},\"selection_glyph\":null},\"id\":\"0877d0d1-d47d-4837-8890-a124c844cd36\",\"type\":\"GlyphRenderer\"},{\"attributes\":{\"fill_color\":{\"value\":\"#1f77b4\"},\"height\":{\"units\":\"data\",\"value\":0.4},\"line_color\":{\"value\":\"#1f77b4\"},\"width\":{\"units\":\"data\",\"value\":27},\"x\":{\"value\":13.5},\"y\":{\"value\":6}},\"id\":\"b8417034-e54a-4575-aec5-7d12f0e3a264\",\"type\":\"Rect\"},{\"attributes\":{\"callback\":null},\"id\":\"aead1e6c-eeb2-4a2d-a078-57bed1070d61\",\"type\":\"ColumnDataSource\"},{\"attributes\":{\"fill_alpha\":{\"value\":0.1},\"fill_color\":{\"value\":\"#1f77b4\"},\"height\":{\"units\":\"data\",\"value\":0.4},\"line_alpha\":{\"value\":0.1},\"line_color\":{\"value\":\"#1f77b4\"},\"width\":{\"units\":\"data\",\"value\":664},\"x\":{\"value\":332.0},\"y\":{\"value\":26}},\"id\":\"c4bfa3f6-3144-49d9-95fa-ea3aa6502458\",\"type\":\"Rect\"},{\"attributes\":{\"data_source\":{\"id\":\"589659e5-1a7b-4070-9af7-db8ceeb3deab\",\"type\":\"ColumnDataSource\"},\"glyph\":{\"id\":\"a24fdea9-3612-42b8-9a9d-158104b0f004\",\"type\":\"Rect\"},\"hover_glyph\":null,\"nonselection_glyph\":{\"id\":\"74d5afc3-0c1f-40fd-9a90-d1b19a029d1a\",\"type\":\"Rect\"},\"selection_glyph\":null},\"id\":\"3d2a93a0-9c91-4889-90f2-f8f47c9b3b5a\",\"type\":\"GlyphRenderer\"},{\"attributes\":{\"fill_alpha\":{\"value\":0.1},\"fill_color\":{\"value\":\"#1f77b4\"},\"height\":{\"units\":\"data\",\"value\":0.4},\"line_alpha\":{\"value\":0.1},\"line_color\":{\"value\":\"#1f77b4\"},\"width\":{\"units\":\"data\",\"value\":206},\"x\":{\"value\":103.0},\"y\":{\"value\":19}},\"id\":\"927a7053-74a2-4943-bca9-15b223dfbb33\",\"type\":\"Rect\"},{\"attributes\":{\"data_source\":{\"id\":\"f0755317-58ce-47a0-add2-5f4f75c5a46c\",\"type\":\"ColumnDataSource\"},\"glyph\":{\"id\":\"87dd02b5-6063-442d-bf45-025f712b5354\",\"type\":\"Rect\"},\"hover_glyph\":null,\"nonselection_glyph\":{\"id\":\"882fdef1-0a0a-4ba6-aaed-be5a2cc008c9\",\"type\":\"Rect\"},\"selection_glyph\":null},\"id\":\"ad8956e0-2b27-4841-8fa7-e5611de41366\",\"type\":\"GlyphRenderer\"},{\"attributes\":{\"fill_alpha\":{\"value\":0.1},\"fill_color\":{\"value\":\"#1f77b4\"},\"height\":{\"units\":\"data\",\"value\":0.4},\"line_alpha\":{\"value\":0.1},\"line_color\":{\"value\":\"#1f77b4\"},\"width\":{\"units\":\"data\",\"value\":23},\"x\":{\"value\":11.5},\"y\":{\"value\":3}},\"id\":\"1b131e2f-5b07-45e6-9193-b11393ec3bee\",\"type\":\"Rect\"},{\"attributes\":{\"callback\":null},\"id\":\"e6e09b41-f775-467e-a9e5-d93826d34805\",\"type\":\"ColumnDataSource\"},{\"attributes\":{\"fill_color\":{\"value\":\"#1f77b4\"},\"height\":{\"units\":\"data\",\"value\":0.4},\"line_color\":{\"value\":\"#1f77b4\"},\"width\":{\"units\":\"data\",\"value\":32},\"x\":{\"value\":16.0},\"y\":{\"value\":8}},\"id\":\"9143d2ae-4d08-4070-ba6c-da28eb61e4a1\",\"type\":\"Rect\"},{\"attributes\":{\"plot\":{\"id\":\"ba0ac393-769f-450f-ab6e-c3c0ff344495\",\"subtype\":\"Figure\",\"type\":\"Plot\"}},\"id\":\"f6487b8a-265f-4b80-b157-b8392c3639ba\",\"type\":\"SaveTool\"},{\"attributes\":{\"fill_alpha\":{\"value\":0.1},\"fill_color\":{\"value\":\"#1f77b4\"},\"height\":{\"units\":\"data\",\"value\":0.4},\"line_alpha\":{\"value\":0.1},\"line_color\":{\"value\":\"#1f77b4\"},\"width\":{\"units\":\"data\",\"value\":32},\"x\":{\"value\":16.0},\"y\":{\"value\":8}},\"id\":\"c5f94aa5-e136-4061-83f7-9e7cc7817202\",\"type\":\"Rect\"},{\"attributes\":{\"callback\":null},\"id\":\"0078ddeb-a23a-4f83-b7b7-6886f8e5735d\",\"type\":\"ColumnDataSource\"},{\"attributes\":{\"fill_color\":{\"value\":\"#1f77b4\"},\"height\":{\"units\":\"data\",\"value\":0.4},\"line_color\":{\"value\":\"#1f77b4\"},\"width\":{\"units\":\"data\",\"value\":206},\"x\":{\"value\":103.0},\"y\":{\"value\":19}},\"id\":\"c4f7119d-212c-4e11-b149-e9a461225f17\",\"type\":\"Rect\"},{\"attributes\":{\"fill_alpha\":{\"value\":0.1},\"fill_color\":{\"value\":\"#1f77b4\"},\"height\":{\"units\":\"data\",\"value\":0.4},\"line_alpha\":{\"value\":0.1},\"line_color\":{\"value\":\"#1f77b4\"},\"width\":{\"units\":\"data\",\"value\":74},\"x\":{\"value\":37.0},\"y\":{\"value\":13}},\"id\":\"1ef975b0-0e9a-41fc-a4c9-768fd2b39c3f\",\"type\":\"Rect\"},{\"attributes\":{\"data_source\":{\"id\":\"c9f680bb-defa-486d-8266-eebb44ad35a5\",\"type\":\"ColumnDataSource\"},\"glyph\":{\"id\":\"84e45478-7a3b-4006-a022-da1e631fe697\",\"type\":\"Rect\"},\"hover_glyph\":null,\"nonselection_glyph\":{\"id\":\"1105e9fa-0b08-4c09-9bb8-7a3702ad1803\",\"type\":\"Rect\"},\"selection_glyph\":null},\"id\":\"5e1e15a0-5e52-423a-8390-54552af2d96a\",\"type\":\"GlyphRenderer\"},{\"attributes\":{\"fill_color\":{\"value\":\"#1f77b4\"},\"height\":{\"units\":\"data\",\"value\":0.4},\"line_color\":{\"value\":\"#1f77b4\"},\"width\":{\"units\":\"data\",\"value\":26},\"x\":{\"value\":13.0},\"y\":{\"value\":4}},\"id\":\"2d0b2296-e98e-4769-92bb-03d6f506be1b\",\"type\":\"Rect\"},{\"attributes\":{\"callback\":null},\"id\":\"f0755317-58ce-47a0-add2-5f4f75c5a46c\",\"type\":\"ColumnDataSource\"},{\"attributes\":{\"data_source\":{\"id\":\"c46b77d4-c725-469a-b93b-c13e8ec51986\",\"type\":\"ColumnDataSource\"},\"glyph\":{\"id\":\"31af5344-dd11-4f86-a567-e0442fa2d08f\",\"type\":\"Rect\"},\"hover_glyph\":null,\"nonselection_glyph\":{\"id\":\"1ef975b0-0e9a-41fc-a4c9-768fd2b39c3f\",\"type\":\"Rect\"},\"selection_glyph\":null},\"id\":\"91c8d401-7e00-4ade-ad8b-99c0141e136e\",\"type\":\"GlyphRenderer\"},{\"attributes\":{\"fill_color\":{\"value\":\"#1f77b4\"},\"height\":{\"units\":\"data\",\"value\":0.4},\"line_color\":{\"value\":\"#1f77b4\"},\"width\":{\"units\":\"data\",\"value\":86},\"x\":{\"value\":43.0},\"y\":{\"value\":15}},\"id\":\"b09b7818-0426-4eb0-9e06-c788acd3b169\",\"type\":\"Rect\"},{\"attributes\":{\"callback\":null},\"id\":\"dcb630c6-0d9b-45e1-bb13-1b891ffe0213\",\"type\":\"ColumnDataSource\"},{\"attributes\":{\"fill_alpha\":{\"value\":0.1},\"fill_color\":{\"value\":\"#1f77b4\"},\"height\":{\"units\":\"data\",\"value\":0.4},\"line_alpha\":{\"value\":0.1},\"line_color\":{\"value\":\"#1f77b4\"},\"width\":{\"units\":\"data\",\"value\":29},\"x\":{\"value\":14.5},\"y\":{\"value\":7}},\"id\":\"25970f5f-d1d4-4436-b7ae-0269cd03e4b8\",\"type\":\"Rect\"},{\"attributes\":{\"fill_color\":{\"value\":\"#1f77b4\"},\"height\":{\"units\":\"data\",\"value\":0.4},\"line_color\":{\"value\":\"#1f77b4\"},\"width\":{\"units\":\"data\",\"value\":523},\"x\":{\"value\":261.5},\"y\":{\"value\":23}},\"id\":\"77fb6477-e74c-4692-98b2-0d56d974413d\",\"type\":\"Rect\"},{\"attributes\":{\"callback\":null},\"id\":\"3b108023-ab91-4bba-8ec9-c16b6f432ccd\",\"type\":\"ColumnDataSource\"},{\"attributes\":{\"fill_color\":{\"value\":\"#1f77b4\"},\"height\":{\"units\":\"data\",\"value\":0.4},\"line_color\":{\"value\":\"#1f77b4\"},\"width\":{\"units\":\"data\",\"value\":74},\"x\":{\"value\":37.0},\"y\":{\"value\":12}},\"id\":\"84e45478-7a3b-4006-a022-da1e631fe697\",\"type\":\"Rect\"},{\"attributes\":{\"data_source\":{\"id\":\"4d56ee72-776b-441d-90cd-cf33db5326ec\",\"type\":\"ColumnDataSource\"},\"glyph\":{\"id\":\"b09b7818-0426-4eb0-9e06-c788acd3b169\",\"type\":\"Rect\"},\"hover_glyph\":null,\"nonselection_glyph\":{\"id\":\"e6a84342-2511-411e-9f9e-9c1c10f8eabc\",\"type\":\"Rect\"},\"selection_glyph\":null},\"id\":\"a07d0994-6fbb-4022-9f77-765e9ef97220\",\"type\":\"GlyphRenderer\"},{\"attributes\":{\"fill_alpha\":{\"value\":0.1},\"fill_color\":{\"value\":\"#1f77b4\"},\"height\":{\"units\":\"data\",\"value\":0.4},\"line_alpha\":{\"value\":0.1},\"line_color\":{\"value\":\"#1f77b4\"},\"width\":{\"units\":\"data\",\"value\":130},\"x\":{\"value\":65.0},\"y\":{\"value\":17}},\"id\":\"882fdef1-0a0a-4ba6-aaed-be5a2cc008c9\",\"type\":\"Rect\"},{\"attributes\":{\"fill_alpha\":{\"value\":0.1},\"fill_color\":{\"value\":\"#1f77b4\"},\"height\":{\"units\":\"data\",\"value\":0.4},\"line_alpha\":{\"value\":0.1},\"line_color\":{\"value\":\"#1f77b4\"},\"width\":{\"units\":\"data\",\"value\":281},\"x\":{\"value\":140.5},\"y\":{\"value\":20}},\"id\":\"b2b7eab4-07f3-4ea4-b321-eda3c106d300\",\"type\":\"Rect\"},{\"attributes\":{\"callback\":null},\"id\":\"d15eb42a-4846-4fc1-97fa-3898c3f9304b\",\"type\":\"ColumnDataSource\"}],\"root_ids\":[\"ba0ac393-769f-450f-ab6e-c3c0ff344495\"]},\"title\":\"Bokeh Application\",\"version\":\"0.12.4\"}};\n",
       "            var render_items = [{\"docid\":\"60eb81fb-50e5-472c-ac9a-674caa837a52\",\"elementid\":\"4e44b4b9-7ed3-4821-8f89-372c652dd3ec\",\"modelid\":\"ba0ac393-769f-450f-ab6e-c3c0ff344495\"}];\n",
       "            \n",
       "            Bokeh.embed.embed_items(docs_json, render_items);\n",
       "          };\n",
       "          if (document.readyState != \"loading\") fn();\n",
       "          else document.addEventListener(\"DOMContentLoaded\", fn);\n",
       "        })();\n",
       "      },\n",
       "      function(Bokeh) {\n",
       "      }\n",
       "    ];\n",
       "  \n",
       "    function run_inline_js() {\n",
       "      \n",
       "      if ((window.Bokeh !== undefined) || (force === true)) {\n",
       "        for (var i = 0; i < inline_js.length; i++) {\n",
       "          inline_js[i](window.Bokeh);\n",
       "        }if (force === true) {\n",
       "          display_loaded();\n",
       "        }} else if (Date.now() < window._bokeh_timeout) {\n",
       "        setTimeout(run_inline_js, 100);\n",
       "      } else if (!window._bokeh_failed_load) {\n",
       "        console.log(\"Bokeh: BokehJS failed to load within specified timeout.\");\n",
       "        window._bokeh_failed_load = true;\n",
       "      } else if (force !== true) {\n",
       "        var cell = $(document.getElementById(\"4e44b4b9-7ed3-4821-8f89-372c652dd3ec\")).parents('.cell').data().cell;\n",
       "        cell.output_area.append_execute_result(NB_LOAD_WARNING)\n",
       "      }\n",
       "  \n",
       "    }\n",
       "  \n",
       "    if (window._bokeh_is_loading === 0) {\n",
       "      console.log(\"Bokeh: BokehJS loaded, going straight to plotting\");\n",
       "      run_inline_js();\n",
       "    } else {\n",
       "      load_libs(js_urls, function() {\n",
       "        console.log(\"Bokeh: BokehJS plotting callback run at\", now());\n",
       "        run_inline_js();\n",
       "      });\n",
       "    }\n",
       "  }(this));\n",
       "</script>"
      ]
     },
     "metadata": {},
     "output_type": "display_data"
    }
   ],
   "source": [
    "show(p)"
   ]
  },
  {
   "cell_type": "markdown",
   "metadata": {
    "deletable": true,
    "editable": true
   },
   "source": [
    "# Analyzing the Fields"
   ]
  },
  {
   "cell_type": "markdown",
   "metadata": {
    "deletable": true,
    "editable": true
   },
   "source": [
    "Now that we have the frequencies of the fields we can determine which fields will be most useful in creating our corpus. For this purpose the arbitrary number of 100 was chosen. If a field occurs more than 100 times it will be detailed below with an example. The observations are based on limited research and analysis so they are not perfect, but they reasonably describe the rules and regulations of each field."
   ]
  },
  {
   "cell_type": "markdown",
   "metadata": {
    "deletable": true,
    "editable": true
   },
   "source": [
    "### Currently Useful Fields"
   ]
  },
  {
   "cell_type": "markdown",
   "metadata": {
    "deletable": true,
    "editable": true
   },
   "source": [
    "<table>\n",
    "<th>Name</th><th>Description</th><th  width=\"50%\">Example</th>\n",
    "<tr>\n",
    "<td>Description</td><td>A brief description of the Weakness. Typically one to two sentances. Can also contain an Extended Description which goes into further detail. It should be noted that sometimes the extended description is shorter than the regular description but this is rarely the case</td><td><img src=\"images/Description.png\"></td>\n",
    "</tr>\n",
    "<tr>\n",
    "<td>Common_Consequences</td><td>A single sentence. There is also the scope which is a one or two word term as will as the technical impact which varies in format.</td><td><img src=\"images/Common_Consequences.png\"><br><img src=\"images/Common_Consequences2.PNG\"></td> \n",
    "</tr>\n",
    "<tr>\n",
    "<td>Potential_Mitigations</td><td> Describes how to prevent exploit at various steps in the development cycle. Typically a single sentence per phase and there can be a variable amount of phases</td><td><img src=\"images/Potential_Mitigations.png\"></td> \n",
    "</tr>\n",
    "<tr>\n",
    "<td>Demonstrative_Examples</td><td>Contains code pertaining to the weakness, but more importantly it can contain extremely detailed descriptions. The length is highly variable but the term density is high. The code is contained within an HTML tag however the notes by whoever wrote the article can be strucutred in a multitude of ways.</td><td><img src=\"images/Demonstrative_Example.png\"><br><img src=\"images/Demonstrative_Example2.png\"></td> \n",
    "</tr>\n",
    "</table>   "
   ]
  },
  {
   "cell_type": "markdown",
   "metadata": {
    "deletable": true,
    "editable": true
   },
   "source": [
    "### Fields That Might Be Useful Later"
   ]
  },
  {
   "cell_type": "markdown",
   "metadata": {
    "deletable": true,
    "editable": true
   },
   "source": [
    "<table>\n",
    "<th>Name</th><th>Description</th><th width=\"50%\">Example</th>\n",
    "<tr>\n",
    "<td>Relationships</td><td>Lists other fields fields and relationship to said fields.</td><td><img src=\"images/Relationships.png\"></td>\n",
    "</tr>\n",
    "<tr>\n",
    "<td>Time_of_Introduction</td><td>Gives the stage(s) in the development cycle that this weakness can effect.</td><td><img src=\"images/Time_Of_Introduction.png\"></td>\n",
    "</tr>\n",
    "<tr>\n",
    "<td>Related_Attack_Patterns</td><td>Lists CAPEC entries that relate to topic.</td><td><img src=\"images/Related_Attack_Patterns.png\"></td>\n",
    "</tr>\n",
    "<tr>\n",
    "<td>Observed_Examples</td><td>References CVE entry. See CWE ID number 141</td><td><img src=\"images/Related_Attack_Patterns.png\"></td>\n",
    "</tr>\n",
    "<tr>\n",
    "<td>Taxonomy_Mappings</td><td>Alternative way to organize and understand the data.</td><td><img src=\"images/Taxonomy_Mappings.png\"></td>\n",
    "</tr>\n",
    "</table>   "
   ]
  },
  {
   "cell_type": "markdown",
   "metadata": {
    "deletable": true,
    "editable": true
   },
   "source": [
    "### Currently Discarded Fields"
   ]
  },
  {
   "cell_type": "markdown",
   "metadata": {
    "deletable": true,
    "editable": true
   },
   "source": [
    "<table>\n",
    "<th>Name</th><th>Description</th><th width=\"50%\">Example</th>\n",
    "<tr>\n",
    "<td>Content_History</td><td>Shows original sumission date along with dates of modifications as well as other relevent data.</td><td><img src=\"images/Content_History.png\"></td>\n",
    "</tr>\n",
    "<tr>\n",
    "<td>Content_History</td><td>Shows original sumission date along with dates of modifications as well as other relevent data.</td><td><img src=\"images/Content_History.png\"></td>\n",
    "</tr>\n",
    "<tr>\n",
    "<td>Application_Platforms</td><td>Gives the languages that the weakness effects.</td><td><img src=\"images/Application_Platform.png\"></td>\n",
    "</tr>\n",
    "<tr>\n",
    "<td>References</td><td>References source(s) used.</td><td><img src=\"images/References.png\"></td>\n",
    "</tr>\n",
    "<tr>\n",
    "<td>Likelyhood_of_Exploit</td><td>Gives the chance that the weakness would be taken advantage of using. Typically rated from low to high. </td><td><img src=\"images/References.png\"></td>\n",
    "</tr>\n",
    "<tr>\n",
    "<td>Weakness_Ordinalities</td><td>Ask Carlos about this one.</td><td><img src=\"images/Weakness_Ordinalities.png\"></td>\n",
    "</tr>\n",
    "<tr>\n",
    "<td>Relationship_Notes</td><td>Gives notes about the relationship.</td><td><img src=\"images/Relationship_Notes.png\"></td>\n",
    "</tr>\n",
    "</table>   "
   ]
  },
  {
   "cell_type": "markdown",
   "metadata": {
    "deletable": true,
    "editable": true
   },
   "source": [
    "# Conclusion"
   ]
  },
  {
   "cell_type": "markdown",
   "metadata": {
    "deletable": true,
    "editable": true
   },
   "source": [
    "Now that we know which fields will be useful, we need to compare them in different ways. Four methods of comparison have been determined so far. They are specificity, subject, time, and purpose. The concept behind specificity is that with the hierarcy of <b>Weaknesses</b> that we have found, we can entries of similar specificity in order to see how similar they are. Subject is the fastest way to know if subjects are related. Also in the context of email, the subject is seperated in the subject line making it an invaluable asset. Time analyzes the data knowing that the way we communicate about a topic changes over time. This is due to a number of reasons ranging from an increased knowledge about a given topic to a new topic changes the way that we look at the given topic. Comparing the same entry accross versions will achieve this effect. Finally, purpose looks to compare the same field accross multiple documents. By analyzing the documents this way, we hopefully should be able to create a corpus that will give us an accurate similarity score."
   ]
  }
 ],
 "metadata": {
  "kernelspec": {
   "display_name": "Python 3",
   "language": "python",
   "name": "python3"
  },
  "language_info": {
   "codemirror_mode": {
    "name": "ipython",
    "version": 3
   },
   "file_extension": ".py",
   "mimetype": "text/x-python",
   "name": "python",
   "nbconvert_exporter": "python",
   "pygments_lexer": "ipython3",
   "version": "3.5.3"
  }
 },
 "nbformat": 4,
 "nbformat_minor": 2
}
